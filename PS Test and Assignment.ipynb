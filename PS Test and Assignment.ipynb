{
 "cells": [
  {
   "cell_type": "code",
   "execution_count": 1,
   "id": "67abd25d",
   "metadata": {},
   "outputs": [
    {
     "name": "stdout",
     "output_type": "stream",
     "text": [
      "Non-Fibonacci numbers between 1 and 100:\n",
      "[4, 6, 7, 9, 10, 11, 12, 14, 15, 16, 17, 18, 19, 20, 22, 23, 24, 25, 26, 27, 28, 29, 30, 31, 32, 33, 35, 36, 37, 38, 39, 40, 41, 42, 43, 44, 45, 46, 47, 48, 49, 50, 51, 52, 53, 54, 56, 57, 58, 59, 60, 61, 62, 63, 64, 65, 66, 67, 68, 69, 70, 71, 72, 73, 74, 75, 76, 77, 78, 79, 80, 81, 82, 83, 84, 85, 86, 87, 88, 90, 91, 92, 93, 94, 95, 96, 97, 98, 99, 100]\n"
     ]
    }
   ],
   "source": [
    "def generate_fibonacci(limit):\n",
    "    fib_set = set()\n",
    "    a, b = 0, 1\n",
    "    while a <= limit:\n",
    "        fib_set.add(a)\n",
    "        a, b = b, a + b\n",
    "    return fib_set\n",
    "\n",
    "def non_fibonacci_numbers(start, end):\n",
    "    fib_set = generate_fibonacci(end)\n",
    "    return [num for num in range(start, end + 1) if num not in fib_set]\n",
    "\n",
    "# Example usage\n",
    "start, end = 1, 100\n",
    "non_fib_nums = non_fibonacci_numbers(start, end)\n",
    "\n",
    "print(f\"Non-Fibonacci numbers between {start} and {end}:\")\n",
    "print(non_fib_nums)\n"
   ]
  },
  {
   "cell_type": "code",
   "execution_count": 2,
   "id": "c1849521",
   "metadata": {},
   "outputs": [
    {
     "name": "stdout",
     "output_type": "stream",
     "text": [
      "Enter a number: 666544784\n",
      "Maximum prime digit in 666544784: 7\n"
     ]
    }
   ],
   "source": [
    "def is_prime_digit(digit):\n",
    "    return digit in {2, 3, 5, 7}\n",
    "\n",
    "def max_prime_digit(num):\n",
    "    prime_digits = [int(d) for d in str(num) if is_prime_digit(int(d))]\n",
    "    return max(prime_digits, default=None)  # Return None if no prime digits found\n",
    "\n",
    "# Example usage\n",
    "num = int(input(\"Enter a number: \"))\n",
    "max_prime = max_prime_digit(num)\n",
    "\n",
    "if max_prime is not None:\n",
    "    print(f\"Maximum prime digit in {num}: {max_prime}\")\n",
    "else:\n",
    "    print(f\"No prime digits found in {num}.\")\n"
   ]
  },
  {
   "cell_type": "code",
   "execution_count": 3,
   "id": "f0500ee6",
   "metadata": {},
   "outputs": [
    {
     "name": "stdout",
     "output_type": "stream",
     "text": [
      "Enter a number: 758583484\n",
      "Sum of non-prime digits in 758583484: 32\n"
     ]
    }
   ],
   "source": [
    "def is_prime(n):\n",
    "    if n in (2, 3, 5, 7):\n",
    "        return True\n",
    "    return False\n",
    "\n",
    "def sum_of_non_prime_digits(num):\n",
    "    return sum(int(digit) for digit in str(num) if not is_prime(int(digit)))\n",
    "\n",
    "num = int(input(\"Enter a number: \"))\n",
    "result = sum_of_non_prime_digits(num)\n",
    "\n",
    "print(f\"Sum of non-prime digits in {num}: {result}\")\n"
   ]
  },
  {
   "cell_type": "code",
   "execution_count": 4,
   "id": "ec7bb024",
   "metadata": {},
   "outputs": [
    {
     "name": "stdout",
     "output_type": "stream",
     "text": [
      "Enter the start of the range: 1\n",
      "Enter the end of the range: 100\n",
      "Prime numbers between 1 and 100: [2, 3, 5, 7, 11, 13, 17, 19, 23, 29, 31, 37, 41, 43, 47, 53, 59, 61, 67, 71, 73, 79, 83, 89, 97]\n"
     ]
    }
   ],
   "source": [
    "def is_prime(n):\n",
    "    if n < 2:\n",
    "        return False\n",
    "    for i in range(2, int(n ** 0.5) + 1):\n",
    "        if n % i == 0:\n",
    "            return False\n",
    "    return True\n",
    "\n",
    "def primes_in_range(start, end):\n",
    "    primes = [num for num in range(start, end + 1) if is_prime(num)]\n",
    "    return primes\n",
    "\n",
    "start = int(input(\"Enter the start of the range: \"))\n",
    "end = int(input(\"Enter the end of the range: \"))\n",
    "prime_numbers = primes_in_range(start, end)\n",
    "\n",
    "print(f\"Prime numbers between {start} and {end}: {prime_numbers}\")\n"
   ]
  },
  {
   "cell_type": "code",
   "execution_count": null,
   "id": "8f576ce4",
   "metadata": {},
   "outputs": [
    {
     "name": "stdout",
     "output_type": "stream",
     "text": [
      "number? 584848\n"
     ]
    }
   ],
   "source": [
    "#fibbonaci series in function\n",
    "\n",
    "def fib(n):\n",
    "    if n<2:\n",
    "        return 0\n",
    "    arr=[0,1]\n",
    "    n1=arr[0]\n",
    "    n2=arr[1]\n",
    "    for i in range(2,n):\n",
    "        temp=n1+n2\n",
    "        n1=n2\n",
    "        n2=temp\n",
    "        arr.append(temp)\n",
    "    return arr\n",
    "\n",
    "fibbb=int(input(\"number? \"))\n",
    "print(fib(fibbb))"
   ]
  },
  {
   "cell_type": "code",
   "execution_count": 1,
   "id": "88875367",
   "metadata": {},
   "outputs": [
    {
     "name": "stdout",
     "output_type": "stream",
     "text": [
      "13\n"
     ]
    }
   ],
   "source": [
    "#nearest prime(both sides)\n",
    "\n",
    "def nearestPrime(n):\n",
    "    if isPrime(n):\n",
    "        return n\n",
    "    \n",
    "    if abs(n - leftPrime(n)) <= abs(n - rightPrime(n)):\n",
    "        return leftPrime(n)\n",
    "    return rightPrime(n)\n",
    "\n",
    "def isPrime(n):\n",
    "    if n<2:\n",
    "        return False\n",
    "    for i in range(2,int(n**0.5)+1):\n",
    "        if n%i==0:\n",
    "            return False\n",
    "    return True\n",
    "\n",
    "def rightPrime(n):\n",
    "    while not isPrime(n):\n",
    "        n+=1\n",
    "    return n\n",
    "    \n",
    "def leftPrime(n):\n",
    "    while n>1 and not isPrime(n):\n",
    "        n-=1\n",
    "    return n\n",
    "\n",
    "\n",
    "print(nearestPrime(15))"
   ]
  },
  {
   "cell_type": "code",
   "execution_count": 2,
   "id": "f1b27b15",
   "metadata": {},
   "outputs": [
    {
     "name": "stdout",
     "output_type": "stream",
     "text": [
      "['153', '370', '371', '407', '1634', '8208', '9474']\n"
     ]
    }
   ],
   "source": [
    "#armstrong range\n",
    "\n",
    "def isArmstrongRange(lb,up):\n",
    "    arr=[]\n",
    "    up+=1\n",
    "    for i in range(lb,up):\n",
    "        i=str(i)\n",
    "        temp=0\n",
    "        total=0\n",
    "        for j in range(len(i)):\n",
    "            temp=int(i[j])**len(i)\n",
    "            total+=temp\n",
    "        if total == int(i):\n",
    "            arr.append(i)\n",
    "    return arr\n",
    "\n",
    "print(isArmstrongRange(100,10000))\n",
    "    "
   ]
  },
  {
   "cell_type": "code",
   "execution_count": 3,
   "id": "d4519417",
   "metadata": {},
   "outputs": [
    {
     "name": "stdout",
     "output_type": "stream",
     "text": [
      "True\n"
     ]
    }
   ],
   "source": [
    "#armstrong\n",
    "\n",
    "def isArmstrong(n):\n",
    "    n=str(n)\n",
    "    temp=0\n",
    "    total=0\n",
    "    for i in range(len(n)):\n",
    "        temp=int(n[i])**len(n)\n",
    "        total+=temp\n",
    "    if total == int(n):\n",
    "        return True\n",
    "    return False\n",
    "                   \n",
    "print(isArmstrong(153))"
   ]
  },
  {
   "cell_type": "code",
   "execution_count": 4,
   "id": "6e65024e",
   "metadata": {},
   "outputs": [
    {
     "name": "stdout",
     "output_type": "stream",
     "text": [
      "4323\n",
      "not perfect\n"
     ]
    }
   ],
   "source": [
    "num=int(input())\n",
    "count=0\n",
    "for i in range(1,num):\n",
    "    if (num%i==0):\n",
    "        count+=i\n",
    "    else:\n",
    "        continue\n",
    "if (count==num):\n",
    "    print(\"perfect\")\n",
    "else:\n",
    "    print(\"not perfect\")"
   ]
  },
  {
   "cell_type": "code",
   "execution_count": 5,
   "id": "806889b8",
   "metadata": {},
   "outputs": [
    {
     "name": "stdout",
     "output_type": "stream",
     "text": [
      "153\n",
      "amstrong\n"
     ]
    }
   ],
   "source": [
    "num=input()\n",
    "temp1=0\n",
    "for i in range(len(num)):\n",
    "    temp=int(num[i])\n",
    "    temp=temp**3\n",
    "    temp1+=temp\n",
    "if (int(num)==temp1):\n",
    "    print(\"amstrong\")\n",
    "else:\n",
    "    print(\"not amstrong\")"
   ]
  },
  {
   "cell_type": "code",
   "execution_count": null,
   "id": "c7a4b13f",
   "metadata": {},
   "outputs": [],
   "source": []
  },
  {
   "cell_type": "code",
   "execution_count": null,
   "id": "eb8c8162",
   "metadata": {},
   "outputs": [],
   "source": []
  }
 ],
 "metadata": {
  "kernelspec": {
   "display_name": "Python 3 (ipykernel)",
   "language": "python",
   "name": "python3"
  },
  "language_info": {
   "codemirror_mode": {
    "name": "ipython",
    "version": 3
   },
   "file_extension": ".py",
   "mimetype": "text/x-python",
   "name": "python",
   "nbconvert_exporter": "python",
   "pygments_lexer": "ipython3",
   "version": "3.11.7"
  }
 },
 "nbformat": 4,
 "nbformat_minor": 5
}
