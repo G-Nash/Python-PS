{
 "cells": [
  {
   "cell_type": "code",
   "execution_count": null,
   "metadata": {},
   "outputs": [
    {
     "name": "stdout",
     "output_type": "stream",
     "text": [
      "running\n",
      "Nash\n"
     ]
    }
   ],
   "source": [
    "class human:\n",
    "    def __init__(self, name, age):\n",
    "        self.name=name\n",
    "        self.age=age\n",
    "\n",
    "    def run(self):\n",
    "        print(\"running\")\n",
    "\n",
    "\n",
    "class individual(human):\n",
    "    def __init__(self, name, age):\n",
    "        super().__init__(name, age)\n",
    "        \n",
    "\n",
    "indi1=individual(\"Nash\",21)\n",
    "indi1.run()\n",
    "print(indi1.name)"
   ]
  },
  {
   "cell_type": "code",
   "execution_count": 11,
   "metadata": {},
   "outputs": [
    {
     "name": "stdout",
     "output_type": "stream",
     "text": [
      "lion's pride\n",
      "tigers hunt\n",
      "False\n",
      "[<class '__main__.liger'>, <class '__main__.Tiger'>, <class '__main__.Lion'>, <class 'object'>]\n"
     ]
    }
   ],
   "source": [
    "#types of inheritance\n",
    "\n",
    "#single\n",
    "#multi-level\n",
    "#multiple\n",
    "#hierarchical\n",
    "#hybrid\n",
    "\n",
    "\n",
    "\n",
    "#multiple IH\n",
    "#here liger inherites from both lion and tiger\n",
    "\n",
    "class Lion:\n",
    "    big=True\n",
    "    FaceFur=True\n",
    "\n",
    "    def pride(self):\n",
    "        print(\"lion's pride\")\n",
    "\n",
    "class Tiger:\n",
    "    stripped=True\n",
    "    FaceFur=False\n",
    "\n",
    "    def hunt(self):\n",
    "        print(\"tigers hunt\")\n",
    "\n",
    "class liger(Tiger, Lion): #the order of the classes here matters, you can see the order in the mro()\n",
    "    FaceFur=False\n",
    "\n",
    "liger1=liger()\n",
    "liger1.pride()\n",
    "liger1.hunt()\n",
    "print(liger1.FaceFur)\n",
    "\n",
    "print(liger.mro()) "
   ]
  },
  {
   "cell_type": "code",
   "execution_count": null,
   "metadata": {},
   "outputs": [],
   "source": [
    "#Polymorphism\n",
    "#Poly-many, morphism- forms\n",
    "\n",
    "#method overrding\n",
    "#method overloading - Method overloading allows a function or method to be defined multiple times with different parameters.\n",
    "#operator overloading - same operator working diffrently in diffrent situations"
   ]
  },
  {
   "cell_type": "code",
   "execution_count": 8,
   "metadata": {},
   "outputs": [
    {
     "name": "stdout",
     "output_type": "stream",
     "text": [
      "adding two classes\n",
      "138\n",
      "multiplying the id's of the objects\n",
      "4761\n"
     ]
    }
   ],
   "source": [
    "#operator overloading\n",
    "\n",
    "class lastClass:\n",
    "\n",
    "    def __init__(self, id):\n",
    "        self.id=id\n",
    "\n",
    "    def __add__(self, t): #operator overloading\n",
    "        print(\"adding two classes\")\n",
    "        return self.id + t.id\n",
    "    \n",
    "    def __mul__(self,t):\n",
    "        print(\"multiplying the id's of the objects\")\n",
    "        return self.id * t.id\n",
    "\n",
    "\n",
    "t1=lastClass(69)\n",
    "t2=lastClass(69)\n",
    "print(t1+t2)\n",
    "print(t1*t2)"
   ]
  },
  {
   "cell_type": "code",
   "execution_count": null,
   "metadata": {},
   "outputs": [
    {
     "name": "stdout",
     "output_type": "stream",
     "text": [
      "Nash 21 Hyderabad\n",
      "Nash\n",
      "Male\n"
     ]
    },
    {
     "data": {
      "text/plain": [
       "696969"
      ]
     },
     "execution_count": 28,
     "metadata": {},
     "output_type": "execute_result"
    }
   ],
   "source": [
    "#encapsulation - binding the variables with methods or we protect the variables\n",
    "\n",
    "#access modifiers\n",
    "#public, private and protected variables\n",
    "#private - variables that are only be accessed inside the class (__variableName) <- syntax\n",
    "#protected - variables that are accessible in the class and also in the classes that inherit the main class (_variableName) <- syntax\n",
    "\n",
    "#getters and setters are used to get and set the variable inside a classes, getters and setters are methods\n",
    "\n",
    "class Person:\n",
    "    def __init__(self, name, age, location, dob, sex):\n",
    "        self.name, self.age, self.location = name, age, location\n",
    "        self.__dob=dob #private variable\n",
    "        self._sex=sex #protected variable\n",
    "\n",
    "    #to modify these kinda variables we use methods\n",
    "    def showDob(self):\n",
    "        return self.__dob\n",
    "\n",
    "    def showDetails(self):\n",
    "        print(self.name, self.age, self.location)\n",
    "\n",
    "person1=Person(\"Nash\", 21, \"Hyderabad\", 696969, \"Male\")\n",
    "person1.showDetails()\n",
    "print(person1.name)\n",
    "# print(person1.__dob) #can only be accessed in the class\n",
    "print(person1._sex) #only be accessed in it's class and it's child classes\n",
    "# print(person1.__dob)\n",
    "person1.showDob()"
   ]
  },
  {
   "cell_type": "code",
   "execution_count": 14,
   "metadata": {},
   "outputs": [
    {
     "name": "stdout",
     "output_type": "stream",
     "text": [
      "69000\n",
      "new balance 70000\n"
     ]
    }
   ],
   "source": [
    "#abstraction - hiding the implementation of the methods\n",
    "#we use an abstract class to implemnt this abstraction\n",
    "\n",
    "from abc import ABC, abstractmethod\n",
    "\n",
    "class Atm(ABC):\n",
    "\n",
    "    @abstractmethod\n",
    "    def checkBalance(self): #abstract method that defines the structec\n",
    "        ...\n",
    "\n",
    "    @abstractmethod\n",
    "    def deposit(self):\n",
    "        ...\n",
    "\n",
    "\n",
    "class BobAtm(Atm):\n",
    "    def __init__(self, accNum, balance):\n",
    "        self.accNum, self.balance = accNum, balance\n",
    "    \n",
    "    def checkBalance(self): #this is an abstract methods\n",
    "        print(self.balance)\n",
    "    \n",
    "    def deposit(self, amount):\n",
    "        self.balance += amount\n",
    "        print(\"new balance\", self.balance)\n",
    "\n",
    "        \n",
    "acc1=BobAtm(1111,69000)\n",
    "acc1.checkBalance()\n",
    "acc1.deposit(1000)"
   ]
  },
  {
   "cell_type": "code",
   "execution_count": null,
   "metadata": {},
   "outputs": [],
   "source": []
  },
  {
   "cell_type": "code",
   "execution_count": null,
   "metadata": {},
   "outputs": [],
   "source": []
  }
 ],
 "metadata": {
  "kernelspec": {
   "display_name": "base",
   "language": "python",
   "name": "python3"
  },
  "language_info": {
   "codemirror_mode": {
    "name": "ipython",
    "version": 3
   },
   "file_extension": ".py",
   "mimetype": "text/x-python",
   "name": "python",
   "nbconvert_exporter": "python",
   "pygments_lexer": "ipython3",
   "version": "3.11.7"
  }
 },
 "nbformat": 4,
 "nbformat_minor": 2
}
