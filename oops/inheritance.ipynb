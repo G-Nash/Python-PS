{
 "cells": [
  {
   "cell_type": "code",
   "execution_count": null,
   "metadata": {},
   "outputs": [
    {
     "name": "stdout",
     "output_type": "stream",
     "text": [
      "running\n",
      "Nash\n"
     ]
    }
   ],
   "source": [
    "class human:\n",
    "    def __init__(self, name, age):\n",
    "        self.name=name\n",
    "        self.age=age\n",
    "\n",
    "    def run(self):\n",
    "        print(\"running\")\n",
    "\n",
    "\n",
    "class individual(human):\n",
    "    def __init__(self, name, age):\n",
    "        super().__init__(name, age)\n",
    "        \n",
    "\n",
    "indi1=individual(\"Nash\",21)\n",
    "indi1.run()\n",
    "print(indi1.name)"
   ]
  },
  {
   "cell_type": "code",
   "execution_count": 11,
   "metadata": {},
   "outputs": [
    {
     "name": "stdout",
     "output_type": "stream",
     "text": [
      "lion's pride\n",
      "tigers hunt\n",
      "False\n",
      "[<class '__main__.liger'>, <class '__main__.Tiger'>, <class '__main__.Lion'>, <class 'object'>]\n"
     ]
    }
   ],
   "source": [
    "#types of inheritance\n",
    "\n",
    "#single\n",
    "#multi-level\n",
    "#multiple\n",
    "#hierarchical\n",
    "#hybrid\n",
    "\n",
    "\n",
    "\n",
    "#multiple IH\n",
    "#here liger inherites from both lion and tiger\n",
    "\n",
    "class Lion:\n",
    "    big=True\n",
    "    FaceFur=True\n",
    "\n",
    "    def pride(self):\n",
    "        print(\"lion's pride\")\n",
    "\n",
    "class Tiger:\n",
    "    stripped=True\n",
    "    FaceFur=False\n",
    "\n",
    "    def hunt(self):\n",
    "        print(\"tigers hunt\")\n",
    "\n",
    "class liger(Tiger, Lion): #the order of the classes here matters, you can see the order in the mro()\n",
    "    FaceFur=False\n",
    "\n",
    "liger1=liger()\n",
    "liger1.pride()\n",
    "liger1.hunt()\n",
    "print(liger1.FaceFur)\n",
    "\n",
    "print(liger.mro()) "
   ]
  },
  {
   "cell_type": "code",
   "execution_count": null,
   "metadata": {},
   "outputs": [],
   "source": [
    "#Polymorphism\n",
    "#Poly-many, morphism- forms\n",
    "\n",
    "#method overrding\n",
    "#method overloading - Method overloading allows a function or method to be defined multiple times with different parameters.\n",
    "#operator overloading - same operator working diffrently in diffrent situations"
   ]
  },
  {
   "cell_type": "code",
   "execution_count": null,
   "metadata": {},
   "outputs": [],
   "source": []
  },
  {
   "cell_type": "code",
   "execution_count": null,
   "metadata": {},
   "outputs": [],
   "source": []
  }
 ],
 "metadata": {
  "kernelspec": {
   "display_name": "base",
   "language": "python",
   "name": "python3"
  },
  "language_info": {
   "codemirror_mode": {
    "name": "ipython",
    "version": 3
   },
   "file_extension": ".py",
   "mimetype": "text/x-python",
   "name": "python",
   "nbconvert_exporter": "python",
   "pygments_lexer": "ipython3",
   "version": "3.11.7"
  }
 },
 "nbformat": 4,
 "nbformat_minor": 2
}
