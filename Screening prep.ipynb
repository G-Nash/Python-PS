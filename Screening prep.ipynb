{
 "cells": [
  {
   "cell_type": "code",
   "execution_count": null,
   "metadata": {},
   "outputs": [
    {
     "name": "stdout",
     "output_type": "stream",
     "text": [
      "* \n",
      "* * \n",
      "* * * \n",
      "* * * * \n",
      "* * * * * \n"
     ]
    }
   ],
   "source": [
    "# for i in range(5):\n",
    "#     for j in range(i+1):\n",
    "#         print(\"*\",end=\" \")\n",
    "#     print()"
   ]
  },
  {
   "cell_type": "code",
   "execution_count": null,
   "metadata": {},
   "outputs": [
    {
     "name": "stdout",
     "output_type": "stream",
     "text": [
      "            \n",
      "          * \n",
      "        * * \n",
      "      * * * \n",
      "    * * * * \n",
      "  * * * * * \n",
      "* * * * * * \n"
     ]
    }
   ],
   "source": [
    "# n=6\n",
    "# for i in range(n+1):\n",
    "#     for j in range(n,0,-1):\n",
    "#         if i<j:\n",
    "#             print(\" \", end=\" \")\n",
    "#         else:\n",
    "#             print(\"*\", end=\" \")\n",
    "#     print() "
   ]
  },
  {
   "cell_type": "code",
   "execution_count": 35,
   "metadata": {},
   "outputs": [
    {
     "data": {
      "text/plain": [
       "4"
      ]
     },
     "execution_count": 35,
     "metadata": {},
     "output_type": "execute_result"
    }
   ],
   "source": [
    "#binary search\n",
    "\n",
    "\n",
    "def binarySearch(ls,x):\n",
    "    low=0\n",
    "    high=len(ls)-1\n",
    "\n",
    "\n",
    "    while low <= high:\n",
    "\n",
    "        mid = (low + high)//2\n",
    "\n",
    "        if ls[mid] == x:\n",
    "            return mid\n",
    "        \n",
    "        elif ls[mid] > x:\n",
    "            high = mid-1\n",
    "\n",
    "        else:\n",
    "            low = mid +1\n",
    "\n",
    "    return -1\n",
    "\n",
    "\n",
    "array=[1,4,5,7,8,9]\n",
    "\n",
    "binarySearch(array,8)\n",
    "\n"
   ]
  },
  {
   "cell_type": "code",
   "execution_count": 46,
   "metadata": {},
   "outputs": [
    {
     "data": {
      "text/plain": [
       "[1, 2, 3, 4, 5, 6, 7, 8, 9]"
      ]
     },
     "execution_count": 46,
     "metadata": {},
     "output_type": "execute_result"
    }
   ],
   "source": [
    "#bubble sort\n",
    "\n",
    "def bubbleSort(arr):\n",
    "    for i in range(len(arr)-1):\n",
    "        swapped= False\n",
    "        for j in range(len(arr)-i-1):\n",
    "            if arr[j] > arr[j+1]:\n",
    "                arr[j], arr[j+1] = arr[j+1], arr[j]\n",
    "                swapped= True\n",
    "        if not swapped:\n",
    "            return arr\n",
    "    return arr\n",
    "    \n",
    "arr=[1,9,2,8,3,7,4,6,5]\n",
    "bubbleSort(arr)"
   ]
  },
  {
   "cell_type": "code",
   "execution_count": 42,
   "metadata": {},
   "outputs": [
    {
     "data": {
      "text/plain": [
       "4"
      ]
     },
     "execution_count": 42,
     "metadata": {},
     "output_type": "execute_result"
    }
   ],
   "source": [
    "#binary search using recrusion\n",
    "\n",
    "\n",
    "def binarySearch(arr, element,low, high):\n",
    "    mid = (low + high)//2\n",
    "\n",
    "    while low <= high:\n",
    "        if arr[mid] == element:\n",
    "            return mid\n",
    "        \n",
    "        elif arr[mid] > element:\n",
    "            return binarySearch(arr, element, low, mid-1)\n",
    "        \n",
    "        else:\n",
    "            return binarySearch(arr, element, mid+1, high)\n",
    "        \n",
    "array=[1,4,5,7,8,9]\n",
    "\n",
    "binarySearch(array,8,0,len(array)-1)"
   ]
  },
  {
   "cell_type": "code",
   "execution_count": 54,
   "metadata": {},
   "outputs": [
    {
     "data": {
      "text/plain": [
       "120"
      ]
     },
     "execution_count": 54,
     "metadata": {},
     "output_type": "execute_result"
    }
   ],
   "source": [
    "# factorial\n",
    "\n",
    "def fact(n):\n",
    "    if n==0 or n==1:\n",
    "        return 1\n",
    "    return n*fact(n-1)\n",
    "\n",
    "fact(5)\n",
    "\n",
    "\n",
    "# def factt(n):\n",
    "#     factorial = 1\n",
    "#     if n==0:\n",
    "#         return 1\n",
    "#     else:\n",
    "#         for i in range(1,n+1):\n",
    "#             factorial = factorial * i\n",
    "#     return factorial\n",
    "\n",
    "# factt(5)\n",
    "\n",
    "    "
   ]
  },
  {
   "cell_type": "code",
   "execution_count": 5,
   "metadata": {},
   "outputs": [
    {
     "name": "stdout",
     "output_type": "stream",
     "text": [
      "0 1 1 2 3 5 "
     ]
    }
   ],
   "source": [
    "#fib series\n",
    "\n",
    "def fib(n):\n",
    "    if n<=1:\n",
    "        return n\n",
    "    return (fib(n-1) + fib(n-2))\n",
    "\n",
    "for i in range(6):\n",
    "    print(fib(i), end=\" \")"
   ]
  },
  {
   "cell_type": "code",
   "execution_count": 12,
   "metadata": {},
   "outputs": [
    {
     "name": "stdout",
     "output_type": "stream",
     "text": [
      "True\n"
     ]
    }
   ],
   "source": [
    "#perfect number (sum of number of divisors except itself == itself) ex- 6 == 1+2+3\n",
    "\n",
    "\n",
    "def perfect(n):\n",
    "    count=0\n",
    "    for i in range(1,n):\n",
    "        if (n%i)==0:\n",
    "            count+=i\n",
    "    if count == n:\n",
    "        return True\n",
    "    return False\n",
    "    \n",
    "\n",
    "print(perfect(6))"
   ]
  },
  {
   "cell_type": "code",
   "execution_count": null,
   "metadata": {},
   "outputs": [
    {
     "name": "stdout",
     "output_type": "stream",
     "text": [
      "153 153\n"
     ]
    },
    {
     "data": {
      "text/plain": [
       "True"
      ]
     },
     "execution_count": 20,
     "metadata": {},
     "output_type": "execute_result"
    }
   ],
   "source": [
    "#armstrong number (sum of it's digits raised to it's lenght power)\n",
    "\n",
    "def armstrong(n):\n",
    "    arm=0\n",
    "    for i in range(len(n)):\n",
    "        temp=int(n[i])\n",
    "        temp=temp**len(n)\n",
    "        arm+=temp\n",
    "    return True if arm == int(n) else False\n",
    "\n",
    "armstrong(\"153\")\n"
   ]
  },
  {
   "cell_type": "code",
   "execution_count": 23,
   "metadata": {},
   "outputs": [
    {
     "name": "stdout",
     "output_type": "stream",
     "text": [
      "55\n",
      "6\n"
     ]
    }
   ],
   "source": [
    "#largest in a list\n",
    "\n",
    "def largestElement(arr):\n",
    "    high=arr[0]\n",
    "    for i in arr:\n",
    "        if i>high:\n",
    "            high=i\n",
    "    return high\n",
    "\n",
    "def largestIndex(arr):\n",
    "    high=0\n",
    "    for i in range(len(arr)-1):\n",
    "        if arr[i]>arr[high]:\n",
    "            high=i\n",
    "    return high\n",
    "\n",
    "print(largestElement([1,2,3,4,52,33,55,2]))\n",
    "print(largestIndex([1,2,3,4,52,33,55,2]))"
   ]
  },
  {
   "cell_type": "code",
   "execution_count": 26,
   "metadata": {},
   "outputs": [
    {
     "data": {
      "text/plain": [
       "6"
      ]
     },
     "execution_count": 26,
     "metadata": {},
     "output_type": "execute_result"
    }
   ],
   "source": [
    "#second largest in a list\n",
    "\n",
    "def bubbleSort(arr):\n",
    "    for i in range(len(arr)-1):\n",
    "        swapped=False\n",
    "        for j in range(len(arr)-i-1):\n",
    "            if arr[j]>arr[j+1]:\n",
    "                arr[j], arr[j+1] = arr[j+1], arr[j]\n",
    "                swapped= True\n",
    "        if not swapped:\n",
    "            return arr\n",
    "    return arr\n",
    "\n",
    "def secondLargest(arr):\n",
    "    bubbleSort(arr)\n",
    "    return arr[len(arr)-2]\n",
    "\n",
    "secondLargest([8,5,3,4,6,1])"
   ]
  },
  {
   "cell_type": "code",
   "execution_count": 44,
   "metadata": {},
   "outputs": [
    {
     "data": {
      "text/plain": [
       "[2, 3, 5, 7, 11, 13, 17, 19]"
      ]
     },
     "execution_count": 44,
     "metadata": {},
     "output_type": "execute_result"
    }
   ],
   "source": [
    "#prime number\n",
    "\n",
    "def isPrime(n):\n",
    "    if n<2:\n",
    "        return False\n",
    "    \n",
    "    for i in range(2,int((n ** 0.5)+1)):\n",
    "        if n % i == 0:\n",
    "            return False\n",
    "    return True\n",
    "\n",
    "def primeSeries(n):\n",
    "    result=[]\n",
    "    for i in range(n):\n",
    "        if isPrime(i):\n",
    "            result.append(i)\n",
    "    return result\n",
    "\n",
    "primeSeries(20)"
   ]
  },
  {
   "cell_type": "code",
   "execution_count": 42,
   "metadata": {},
   "outputs": [
    {
     "data": {
      "text/plain": [
       "[1, 2, 3, 4, 5, 6, 7, 8, 9, 153, 370, 371, 407]"
      ]
     },
     "execution_count": 42,
     "metadata": {},
     "output_type": "execute_result"
    }
   ],
   "source": [
    "#armstrong range\n",
    "\n",
    "def armstrong(n):\n",
    "    n= str(n)\n",
    "    final=0\n",
    "    temp=0\n",
    "    for i in n:\n",
    "        temp=int(i)\n",
    "        temp= temp ** len(n)\n",
    "        final+=temp\n",
    "    return True if (final == int(n)) else False\n",
    "\n",
    "def armstrongSeries(n):\n",
    "    arr=[]\n",
    "    for i in range(1,n):\n",
    "        if armstrong(i):\n",
    "            arr.append(i)\n",
    "    return arr\n",
    "\n",
    "armstrongSeries(1000)"
   ]
  },
  {
   "cell_type": "code",
   "execution_count": null,
   "metadata": {},
   "outputs": [
    {
     "data": {
      "text/plain": [
       "{'t': 5, 'e': 3, 's': 2}"
      ]
     },
     "execution_count": 56,
     "metadata": {},
     "output_type": "execute_result"
    }
   ],
   "source": [
    "#occurences of letters in a string\n",
    "\n",
    "\n",
    "# ls=[\"one\",\"two\",\"three\"]\n",
    "# resLs=[]\n",
    "# for string in ls:\n",
    "#     res={}\n",
    "#     for char in string:\n",
    "#         if char in res:\n",
    "#             res[char]+=1\n",
    "#         else:\n",
    "#             res[char]=1\n",
    "#     resLs.append({string:res})\n",
    "# print(resLs)\n",
    "\n",
    "\n",
    "def occ(string):\n",
    "    flist={}\n",
    "    for i in string:\n",
    "        if i in flist:\n",
    "            flist[i]+=1\n",
    "        else:\n",
    "            flist[i]=1\n",
    "    return flist\n",
    "\n",
    "occ(\"testtestte\")"
   ]
  },
  {
   "cell_type": "code",
   "execution_count": 67,
   "metadata": {},
   "outputs": [
    {
     "name": "stdout",
     "output_type": "stream",
     "text": [
      "tes\n"
     ]
    },
    {
     "data": {
      "text/plain": [
       "[1, 2, 3, 33, 4, 5]"
      ]
     },
     "execution_count": 67,
     "metadata": {},
     "output_type": "execute_result"
    }
   ],
   "source": [
    "#removing duplicates in a string\n",
    "\n",
    "def removeDuplicates(string):\n",
    "    fstring=\"\"\n",
    "    for i in string:\n",
    "        if i not in fstring:\n",
    "            fstring += i\n",
    "    return fstring\n",
    "\n",
    "print(removeDuplicates(\"testtestte\"))\n",
    "\n",
    "\n",
    "def removeDupsList(arr):\n",
    "    flist=[]\n",
    "    for i in arr:\n",
    "        if i not in flist:\n",
    "            flist.append(i)\n",
    "    return flist\n",
    "\n",
    "removeDupsList([1,2,3,33,4,4,5,1,2,3])\n"
   ]
  },
  {
   "cell_type": "code",
   "execution_count": null,
   "metadata": {},
   "outputs": [],
   "source": []
  }
 ],
 "metadata": {
  "kernelspec": {
   "display_name": "base",
   "language": "python",
   "name": "python3"
  },
  "language_info": {
   "codemirror_mode": {
    "name": "ipython",
    "version": 3
   },
   "file_extension": ".py",
   "mimetype": "text/x-python",
   "name": "python",
   "nbconvert_exporter": "python",
   "pygments_lexer": "ipython3",
   "version": "3.11.7"
  }
 },
 "nbformat": 4,
 "nbformat_minor": 2
}
