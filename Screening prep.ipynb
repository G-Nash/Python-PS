{
 "cells": [
  {
   "cell_type": "code",
   "execution_count": null,
   "metadata": {},
   "outputs": [
    {
     "name": "stdout",
     "output_type": "stream",
     "text": [
      "* \n",
      "* * \n",
      "* * * \n",
      "* * * * \n",
      "* * * * * \n"
     ]
    }
   ],
   "source": [
    "# for i in range(5):\n",
    "#     for j in range(i+1):\n",
    "#         print(\"*\",end=\" \")\n",
    "#     print()"
   ]
  },
  {
   "cell_type": "code",
   "execution_count": null,
   "metadata": {},
   "outputs": [
    {
     "name": "stdout",
     "output_type": "stream",
     "text": [
      "            \n",
      "          * \n",
      "        * * \n",
      "      * * * \n",
      "    * * * * \n",
      "  * * * * * \n",
      "* * * * * * \n"
     ]
    }
   ],
   "source": [
    "# n=6\n",
    "# for i in range(n+1):\n",
    "#     for j in range(n,0,-1):\n",
    "#         if i<j:\n",
    "#             print(\" \", end=\" \")\n",
    "#         else:\n",
    "#             print(\"*\", end=\" \")\n",
    "#     print() "
   ]
  },
  {
   "cell_type": "code",
   "execution_count": 35,
   "metadata": {},
   "outputs": [
    {
     "data": {
      "text/plain": [
       "4"
      ]
     },
     "execution_count": 35,
     "metadata": {},
     "output_type": "execute_result"
    }
   ],
   "source": [
    "#binary search\n",
    "\n",
    "\n",
    "def binarySearch(ls,x):\n",
    "    low=0\n",
    "    high=len(ls)-1\n",
    "\n",
    "\n",
    "    while low <= high:\n",
    "\n",
    "        mid = (low + high)//2\n",
    "\n",
    "        if ls[mid] == x:\n",
    "            return mid\n",
    "        \n",
    "        elif ls[mid] > x:\n",
    "            high = mid-1\n",
    "\n",
    "        else:\n",
    "            low = mid +1\n",
    "\n",
    "    return -1\n",
    "\n",
    "\n",
    "array=[1,4,5,7,8,9]\n",
    "\n",
    "binarySearch(array,8)\n",
    "\n"
   ]
  },
  {
   "cell_type": "code",
   "execution_count": 46,
   "metadata": {},
   "outputs": [
    {
     "data": {
      "text/plain": [
       "[1, 2, 3, 4, 5, 6, 7, 8, 9]"
      ]
     },
     "execution_count": 46,
     "metadata": {},
     "output_type": "execute_result"
    }
   ],
   "source": [
    "#bubble sort\n",
    "\n",
    "def bubbleSort(arr):\n",
    "    for i in range(len(arr)-1):\n",
    "        swapped= False\n",
    "        for j in range(len(arr)-i-1):\n",
    "            if arr[j] > arr[j+1]:\n",
    "                arr[j], arr[j+1] = arr[j+1], arr[j]\n",
    "                swapped= True\n",
    "        if not swapped:\n",
    "            return arr\n",
    "    return arr\n",
    "    \n",
    "arr=[1,9,2,8,3,7,4,6,5]\n",
    "bubbleSort(arr)"
   ]
  },
  {
   "cell_type": "code",
   "execution_count": 42,
   "metadata": {},
   "outputs": [
    {
     "data": {
      "text/plain": [
       "4"
      ]
     },
     "execution_count": 42,
     "metadata": {},
     "output_type": "execute_result"
    }
   ],
   "source": [
    "#binary search using recrusion\n",
    "\n",
    "\n",
    "def binarySearch(arr, element,low, high):\n",
    "    mid = (low + high)//2\n",
    "\n",
    "    while low <= high:\n",
    "        if arr[mid] == element:\n",
    "            return mid\n",
    "        \n",
    "        elif arr[mid] > element:\n",
    "            return binarySearch(arr, element, low, mid-1)\n",
    "        \n",
    "        else:\n",
    "            return binarySearch(arr, element, mid+1, high)\n",
    "        \n",
    "array=[1,4,5,7,8,9]\n",
    "\n",
    "binarySearch(array,8,0,len(array)-1)"
   ]
  },
  {
   "cell_type": "code",
   "execution_count": 54,
   "metadata": {},
   "outputs": [
    {
     "data": {
      "text/plain": [
       "120"
      ]
     },
     "execution_count": 54,
     "metadata": {},
     "output_type": "execute_result"
    }
   ],
   "source": [
    "# factorial\n",
    "\n",
    "def fact(n):\n",
    "    if n==0 or n==1:\n",
    "        return 1\n",
    "    return n*fact(n-1)\n",
    "\n",
    "fact(5)\n",
    "\n",
    "\n",
    "# def factt(n):\n",
    "#     factorial = 1\n",
    "#     if n==0:\n",
    "#         return 1\n",
    "#     else:\n",
    "#         for i in range(1,n+1):\n",
    "#             factorial = factorial * i\n",
    "#     return factorial\n",
    "\n",
    "# factt(5)\n",
    "\n",
    "    "
   ]
  },
  {
   "cell_type": "code",
   "execution_count": null,
   "metadata": {},
   "outputs": [],
   "source": []
  }
 ],
 "metadata": {
  "kernelspec": {
   "display_name": "base",
   "language": "python",
   "name": "python3"
  },
  "language_info": {
   "codemirror_mode": {
    "name": "ipython",
    "version": 3
   },
   "file_extension": ".py",
   "mimetype": "text/x-python",
   "name": "python",
   "nbconvert_exporter": "python",
   "pygments_lexer": "ipython3",
   "version": "3.11.7"
  }
 },
 "nbformat": 4,
 "nbformat_minor": 2
}
