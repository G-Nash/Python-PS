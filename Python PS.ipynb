{
 "cells": [
  {
   "cell_type": "code",
   "execution_count": 4,
   "id": "024d7da7",
   "metadata": {},
   "outputs": [
    {
     "name": "stdout",
     "output_type": "stream",
     "text": [
      "enter the number- -1\n",
      "-ve\n"
     ]
    }
   ],
   "source": [
    "# # Write a program to check if a given number is positive, negative, or zero.\n",
    "\n",
    "# number=int(input(\"enter the number- \"))\n",
    "# if number==0:\n",
    "#     print(\"it's zero\")\n",
    "# elif number>0:\n",
    "#     print(\"+ve\")\n",
    "# else:\n",
    "#     print(\"-ve\")"
   ]
  },
  {
   "cell_type": "code",
   "execution_count": 6,
   "id": "1f51288a",
   "metadata": {},
   "outputs": [
    {
     "name": "stdout",
     "output_type": "stream",
     "text": [
      "enter the number- 1\n",
      "odd\n"
     ]
    }
   ],
   "source": [
    "# # Determine if a number is odd or even.\n",
    "\n",
    "# number=int(input(\"enter the number- \"))\n",
    "# if number%2==0:\n",
    "#     print(\"even\")\n",
    "# else:\n",
    "#     print(\"odd\")"
   ]
  },
  {
   "cell_type": "code",
   "execution_count": 3,
   "id": "16c6449e",
   "metadata": {},
   "outputs": [
    {
     "name": "stdout",
     "output_type": "stream",
     "text": [
      "enter the person's age- 18\n",
      "Can vote\n"
     ]
    }
   ],
   "source": [
    "# # Check if a person is eligible to vote (age >= 18).\n",
    "\n",
    "# PAge=int(input(\"enter the person's age- \"))\n",
    "# if PAge>=18:\n",
    "#     print(\"Can vote\")\n",
    "# else:\n",
    "#     print(\"Can't vote\")"
   ]
  },
  {
   "cell_type": "code",
   "execution_count": 5,
   "id": "d05e37dc",
   "metadata": {},
   "outputs": [
    {
     "name": "stdout",
     "output_type": "stream",
     "text": [
      "enter 2nd number2\n",
      "enter 2nd number5\n",
      "5\n"
     ]
    }
   ],
   "source": [
    "# # Write a program to find the greatest of two numbers.\n",
    "\n",
    "# num1=int(input(\"enter 1nd number\"))\n",
    "# num2=int(input(\"enter 2nd number\"))\n",
    "\n",
    "# def greatestInTwo(x,y):\n",
    "#     if x>y:\n",
    "#         print(x)\n",
    "#     else:\n",
    "#         print(y)\n",
    "        \n",
    "# greatestInTwo(num1,num2)"
   ]
  },
  {
   "cell_type": "code",
   "execution_count": 8,
   "id": "741a3b26",
   "metadata": {},
   "outputs": [
    {
     "name": "stdout",
     "output_type": "stream",
     "text": [
      "enter the marks- 5\n",
      "fail\n"
     ]
    }
   ],
   "source": [
    "# # Print \"Pass\" if a student scores more than 40 marks; otherwise, print \"Fail.\"\n",
    "\n",
    "# marks=int(input(\"enter the marks- \"))\n",
    "\n",
    "# def passOrNot(x):\n",
    "#     if x>40:\n",
    "#         print(\"pass\")\n",
    "#     else:\n",
    "#         print(\"fail\")\n",
    "        \n",
    "# passOrNot(marks)"
   ]
  },
  {
   "cell_type": "code",
   "execution_count": 22,
   "id": "4d61365d",
   "metadata": {},
   "outputs": [
    {
     "name": "stdout",
     "output_type": "stream",
     "text": [
      "Enter the day number- 2\n",
      "Tuesday\n"
     ]
    }
   ],
   "source": [
    "# # Write a program to display the day of the week based on a number input (1 for Monday, 2 for Tuesday, etc.).\n",
    "\n",
    "# dayNum=int(input(\"Enter the day number- \"))\n",
    "\n",
    "# def weekDay(x):\n",
    "#     days=[\"Monday\",\"Tuesday\",\"Wednesday\",\"Thrusday\",\"Friday\",\"Saturday\"]\n",
    "#     print(days[x-1])\n",
    "\n",
    "# # for i in range(6):\n",
    "# #     weekDay(i)\n",
    "\n",
    "# weekDay(dayNum)"
   ]
  },
  {
   "cell_type": "code",
   "execution_count": 26,
   "id": "9c280ada",
   "metadata": {},
   "outputs": [
    {
     "name": "stdout",
     "output_type": "stream",
     "text": [
      "enter a number- 4\n",
      "enter another number- 6\n",
      "what operation to perform? (add,sub,mul,div) - mul\n",
      "answer- 24.0\n",
      "\n",
      "\n",
      "Do you wanna continue (y/n)? - y\n",
      "enter a number- 2\n",
      "enter another number- 4\n",
      "what operation to perform? (add,sub,mul,div) - div\n",
      "answer- 0.5\n",
      "\n",
      "\n",
      "Do you wanna continue (y/n)? - y\n",
      "enter a number- 2\n",
      "enter another number- 9\n",
      "what operation to perform? (add,sub,mul,div) - sub\n",
      "answer- -7.0\n",
      "\n",
      "\n",
      "Do you wanna continue (y/n)? - n\n"
     ]
    }
   ],
   "source": [
    "# # Implement a simple calculator to perform addition, subtraction, multiplication, and division.\n",
    "\n",
    "# a=0\n",
    "# continuee=\"y\"\n",
    "# while(continuee==\"y\"):\n",
    "#     a=float(input(\"enter a number- \"))\n",
    "#     b=float(input(\"enter another number- \"))\n",
    "#     operation=input(\"what operation to perform? (add,sub,mul,div) - \").strip().lower()\n",
    "    \n",
    "#     def arthmetic(x,y,z):\n",
    "#         if z==\"add\":\n",
    "#             a=x+y\n",
    "#             print(f\"answer- {a}\")            \n",
    "#         elif z==\"sub\":\n",
    "#             a=x-y\n",
    "#             print(f\"answer- {a}\")            \n",
    "#         elif z==\"mul\":\n",
    "#             a=x*y\n",
    "#             print(f\"answer- {a}\")            \n",
    "#         elif z==\"div\":\n",
    "#             if x==0 or y==0:\n",
    "#                 print(\"division with zero\")\n",
    "#             else:\n",
    "#                 a=x/y\n",
    "#                 print(f\"answer- {a}\")              \n",
    "#         else:\n",
    "#             print(\"provide proper operation to evalute\")\n",
    "#         print(\"\\n\")\n",
    "        \n",
    "#     arthmetic(a,b,operation)\n",
    "#     continuee=input(\"Do you wanna continue (y/n)? - \").strip().lower()"
   ]
  },
  {
   "cell_type": "code",
   "execution_count": 24,
   "id": "ba987328",
   "metadata": {},
   "outputs": [
    {
     "name": "stdout",
     "output_type": "stream",
     "text": [
      "Enter the month number- 6\n",
      "june\n"
     ]
    }
   ],
   "source": [
    "# # Write a program to display the name of a month based on the month number (1 for January, 2 for February, etc.).\n",
    "\n",
    "# monthNum=int(input(\"Enter the month number- \"))\n",
    "\n",
    "# def month(x):\n",
    "#     months=['jan', 'feb', 'mar', 'apr', 'may', 'june', 'jul', 'aug', 'sep', 'oct', 'nov', 'dec']\n",
    "#     print(months[x-1])\n",
    "\n",
    "# month(monthNum)"
   ]
  },
  {
   "cell_type": "code",
   "execution_count": 4,
   "id": "aa20d636",
   "metadata": {},
   "outputs": [
    {
     "name": "stdout",
     "output_type": "stream",
     "text": [
      "enter 1st number1\n",
      "enter 2nd number3\n",
      "enter 3rd number2\n",
      "3\n"
     ]
    }
   ],
   "source": [
    "# ### Write a program to find the greatest of three numbers.\n",
    "\n",
    "# num1=int(input(\"enter 1st number\"))\n",
    "# num2=int(input(\"enter 2nd number\"))\n",
    "# num3=int(input(\"enter 3rd number\"))\n",
    "\n",
    "\n",
    "# answer=num1 if num1>num2 and num1>num3 else num2 if num2>num3 else num3\n",
    "# print(answer)"
   ]
  },
  {
   "cell_type": "code",
   "execution_count": 41,
   "id": "9c361111",
   "metadata": {},
   "outputs": [
    {
     "name": "stdout",
     "output_type": "stream",
     "text": [
      "enter a charecter- a\n",
      "vowel\n"
     ]
    }
   ],
   "source": [
    "# # Write a program to classify a character entered by the user as a vowel, consonant, or neither.\n",
    "\n",
    "\n",
    "# inputChar=input(\"enter a charecter- \").lower()\n",
    "\n",
    "# # # if len(inputChar)>1:\n",
    "# # #     print(\"enter only 1 charecter\")\n",
    "# # # elif inputChar in \"aeiou\":\n",
    "# # #     print(\"vowel\")\n",
    "# # elif inputChar.isalpha():\n",
    "# # #     print(\"consonant\")\n",
    "# # # else:\n",
    "# # #     print(\"neither\")\n",
    "\n",
    "# if len(inputChar)==1:\n",
    "#     answer=\"vowel\" if inputChar in \"aeiou\" else \"consonant\" if inputChar.isalpha() else \"neither\"\n",
    "#     print(answer)\n",
    "# else:\n",
    "#     print(\"enter only 1 character\")"
   ]
  },
  {
   "cell_type": "code",
   "execution_count": 17,
   "id": "5c72286c",
   "metadata": {},
   "outputs": [
    {
     "name": "stdout",
     "output_type": "stream",
     "text": [
      "enter marks- 100\n",
      "Grade A\n"
     ]
    }
   ],
   "source": [
    "# # Calculate the grade of a student based on the marks they score: \n",
    "# #     1. 90-100 : Grade A \n",
    "# #     2. 80-89 : Grade B \n",
    "# #     3. 70-79 : Grade C \n",
    "# #     4. <70 : Fail.\n",
    "\n",
    "# marks=int(input(\"enter marks- \"))\n",
    "\n",
    "# if marks>=90:\n",
    "#     print(\"Grade A\")\n",
    "# elif marks>=80 and marks<90:\n",
    "#     print(\"Grade B\")\n",
    "# elif marks>=70 and marks<80:\n",
    "#     print(\"Grade C\")\n",
    "# else:\n",
    "#     print(\"Fail\")"
   ]
  },
  {
   "cell_type": "code",
   "execution_count": 25,
   "id": "f48b92b1",
   "metadata": {},
   "outputs": [
    {
     "name": "stdout",
     "output_type": "stream",
     "text": [
      "Enter the sides of the triangle separated by commas: 2,2,2\n",
      "valid\n"
     ]
    }
   ],
   "source": [
    "# ## Write a program to check if three sides length form a valid triangle.\n",
    "\n",
    "# a, b, c = map(float, input(\"Enter the sides of the triangle separated by commas: \").split(\",\"))\n",
    "\n",
    "# # if a+b>c and b+c>a and a+c>b:\n",
    "# #     print(\"valid\")\n",
    "# # else:\n",
    "# #     print(\"invalid\")\n",
    "\n",
    "# answer=\"valid\" if a+b>c and b+c>a and a+c>b else \"invalid\"\n",
    "# print(answer)"
   ]
  },
  {
   "cell_type": "code",
   "execution_count": 38,
   "id": "e6ace6b8",
   "metadata": {},
   "outputs": [
    {
     "name": "stdout",
     "output_type": "stream",
     "text": [
      "enter the year- 2023\n",
      "non-leap\n"
     ]
    }
   ],
   "source": [
    "# # Check if a year is a leap year.\n",
    "\n",
    "# year=int(input(\"enter the year- \"))\n",
    "\n",
    "# if year%400==0 or (year%4==0 and year%100!=0):\n",
    "#     print(\"leap\")\n",
    "# else:\n",
    "#     print(\"non-leap\")"
   ]
  },
  {
   "cell_type": "markdown",
   "id": "b4e7d73d",
   "metadata": {},
   "source": [
    "# loop"
   ]
  },
  {
   "cell_type": "code",
   "execution_count": 30,
   "id": "c37da3d2",
   "metadata": {},
   "outputs": [
    {
     "name": "stdout",
     "output_type": "stream",
     "text": [
      "1 2 3 4 5 6 7 8 9 10 11 12 13 14 15 16 17 18 19 20 21 22 23 24 25 26 27 28 29 30 31 32 33 34 35 36 37 38 39 40 41 42 43 44 45 46 47 48 49 50 51 52 53 54 55 56 57 58 59 60 61 62 63 64 65 66 67 68 69 70 71 72 73 74 75 76 77 78 79 80 81 82 83 84 85 86 87 88 89 90 91 92 93 94 95 96 97 98 99 100 \n",
      "2 4 6 8 10 12 14 16 18 20 22 24 26 28 30 32 34 36 38 40 42 44 46 48 50 52 54 56 58 60 62 64 66 68 70 72 74 76 78 80 82 84 86 88 90 92 94 96 98 100 \n",
      "0 3 6 9 12 15 18 21 24 27 30 33 36 39 42 45 48 51 54 57 60 63 66 69 72 75 78 81 84 87 90 93 96 99 "
     ]
    }
   ],
   "source": [
    "# # Print all numbers from 1 to 100 using a for loop.\n",
    "\n",
    "# for i in range(100):\n",
    "#     print(i+1,end=\" \")\n",
    "    \n",
    "# print()\n",
    "# for i in range(1,100,2):\n",
    "#     print(i+1,end=\" \")\n",
    "    \n",
    "# print()\n",
    "# #3 multiples\n",
    "# for i in range(0,101,3):\n",
    "#     print(i,end=\" \")"
   ]
  },
  {
   "cell_type": "code",
   "execution_count": 63,
   "id": "2155f659",
   "metadata": {},
   "outputs": [
    {
     "name": "stdout",
     "output_type": "stream",
     "text": [
      "Enter the no.of terms- 5\n",
      "15\n",
      "15\n"
     ]
    }
   ],
   "source": [
    "# # Write a program to print the sum of the first n natural numbers.\n",
    "\n",
    "# n=int(input(\"Enter the no.of terms- \"))\n",
    "# ans=0\n",
    "# for i in range(n+1): #time complexity O(n) or linear time complexity\n",
    "#     ans+=i\n",
    "# print(ans)\n",
    "\n",
    "# #or\n",
    "\n",
    "# print(int((n*(n+1))/2)) #time complexity O(1) or constant time complexity"
   ]
  },
  {
   "cell_type": "code",
   "execution_count": 11,
   "id": "d8341a70",
   "metadata": {},
   "outputs": [
    {
     "name": "stdout",
     "output_type": "stream",
     "text": [
      "2 4 6 8 10 12 14 16 18 20 22 24 26 28 30 32 34 36 38 40 42 44 46 48 50 \n",
      "2 4 6 8 10 12 14 16 18 20 22 24 26 28 30 32 34 36 38 40 42 44 46 48 50 "
     ]
    }
   ],
   "source": [
    "# # Print all even numbers between 1 and 50 using a while loop.\n",
    "\n",
    "# lst=[x+1 for x in range(51)]\n",
    "# for i in lst:\n",
    "#     if i%2==0:\n",
    "#         print(i,end=\" \")\n",
    "#     else:\n",
    "#         continue\n",
    "        \n",
    "\n",
    "# print()        \n",
    "\n",
    "# n=2\n",
    "# while n<=50:\n",
    "#     print(n,end=\" \")\n",
    "#     n+=2"
   ]
  },
  {
   "cell_type": "code",
   "execution_count": 47,
   "id": "dfa52607",
   "metadata": {},
   "outputs": [
    {
     "name": "stdout",
     "output_type": "stream",
     "text": [
      "enter a number5\n",
      "5 * 0 = 0\n",
      "5 * 1 = 5\n",
      "5 * 2 = 10\n",
      "5 * 3 = 15\n",
      "5 * 4 = 20\n",
      "5 * 5 = 25\n",
      "5 * 6 = 30\n",
      "5 * 7 = 35\n",
      "5 * 8 = 40\n",
      "5 * 9 = 45\n",
      "5 * 10 = 50\n",
      "5 * 11 = 55\n",
      "5 * 12 = 60\n",
      "5 * 13 = 65\n",
      "5 * 14 = 70\n",
      "5 * 15 = 75\n",
      "5 * 16 = 80\n",
      "5 * 17 = 85\n",
      "5 * 18 = 90\n",
      "5 * 19 = 95\n",
      "\n",
      "\n",
      "3 * 1 = 3\n",
      "3 * 2 = 6\n",
      "3 * 3 = 9\n",
      "3 * 4 = 12\n",
      "3 * 5 = 15\n",
      "3 * 6 = 18\n",
      "3 * 7 = 21\n",
      "3 * 8 = 24\n",
      "3 * 9 = 27\n",
      "3 * 10 = 30\n",
      "3 * 11 = 33\n",
      "3 * 12 = 36\n",
      "3 * 13 = 39\n",
      "3 * 14 = 42\n",
      "3 * 15 = 45\n",
      "3 * 16 = 48\n",
      "3 * 17 = 51\n",
      "3 * 18 = 54\n",
      "3 * 19 = 57\n",
      "3 * 20 = 60\n",
      "3 * 21 = 63\n",
      "3 * 22 = 66\n",
      "3 * 23 = 69\n",
      "3 * 24 = 72\n",
      "3 * 25 = 75\n",
      "3 * 26 = 78\n",
      "3 * 27 = 81\n",
      "3 * 28 = 84\n",
      "3 * 29 = 87\n",
      "3 * 30 = 90\n",
      "3 * 31 = 93\n",
      "3 * 32 = 96\n",
      "3 * 33 = 99\n"
     ]
    }
   ],
   "source": [
    "# # Write a program to display the multiplication table of a given number. First 20\n",
    "\n",
    "# num=int(input(\"enter a number\"))\n",
    "\n",
    "# for i in range(100):\n",
    "#     if (num*i)<100:\n",
    "#         print(f\"{num} * {i} = {num*i}\")\n",
    "#     else:\n",
    "#         break\n",
    "\n",
    "# print()\n",
    "# print()\n",
    "\n",
    "# for i in range(3,101,3):\n",
    "#     print(f\"3 * {i//3} = {i}\")"
   ]
  },
  {
   "cell_type": "code",
   "execution_count": 13,
   "id": "48917eb0",
   "metadata": {},
   "outputs": [
    {
     "name": "stdout",
     "output_type": "stream",
     "text": [
      "enter a string- 444\n"
     ]
    }
   ],
   "source": [
    "# # Reverse a number using a while loop. 1. Also can we get the sum of all the digits.\n",
    "\n",
    "# string=input(\"enter a string- \")\n"
   ]
  },
  {
   "cell_type": "code",
   "execution_count": 69,
   "id": "8ea9d58a",
   "metadata": {},
   "outputs": [
    {
     "name": "stdout",
     "output_type": "stream",
     "text": [
      "enter a number- 1\n",
      "enter a number- 2\n",
      "enter a number- 3\n",
      "enter a number- 4\n",
      "enter a number- 0\n"
     ]
    }
   ],
   "source": [
    "# # Write a program that keeps asking the user to enter numbers until they enter a negative number. Use a while loop.\n",
    "\n",
    "# num=1\n",
    "# while num>0:\n",
    "#     num=int(input(\"enter a number- \"))"
   ]
  },
  {
   "cell_type": "code",
   "execution_count": null,
   "id": "2e93e8c3",
   "metadata": {},
   "outputs": [],
   "source": [
    "# Print the first 10 terms of the Fibonacci series using a for loop.\n",
    "\n"
   ]
  },
  {
   "cell_type": "code",
   "execution_count": 11,
   "id": "6da56aeb",
   "metadata": {},
   "outputs": [
    {
     "name": "stdout",
     "output_type": "stream",
     "text": [
      "Enter your username- admin\n",
      "Enter you password- admin\n",
      "Logged in\n"
     ]
    }
   ],
   "source": [
    "# #basic username and password authentication.\n",
    "\n",
    "# actual_username=\"admin\"\n",
    "# actual_password=\"admin\"\n",
    "\n",
    "# username=input(\"Enter your username- \")\n",
    "# password=input(\"Enter you password- \")\n",
    "\n",
    "# if username!=actual_username and password!=actual_password:\n",
    "#     print(\"invalid username and password\")\n",
    "# elif username==actual_username:\n",
    "#     if password==actual_password:\n",
    "#         print(\"Logged in\")\n",
    "#     else:\n",
    "#         print(\"invalid password\")\n",
    "# else:\n",
    "#     print(\"invalid username\")"
   ]
  },
  {
   "cell_type": "code",
   "execution_count": 50,
   "id": "7b5f8920",
   "metadata": {},
   "outputs": [
    {
     "name": "stdout",
     "output_type": "stream",
     "text": [
      "pick your poison- (path1(a narrow trail that goes through thick trees) /path2(a wide road with a view of a dark cave in the distance))path1\n",
      "pick an animal(bear/snake)bear\n",
      "wanna fight or escape? (climbTree/weapon)- weapon\n",
      "won battle? (win/loss)- win\n",
      "you continue your journey\n"
     ]
    }
   ],
   "source": [
    "# path=input(\"pick your poison- (path1(a narrow trail that goes through thick trees) /path2(a wide road with a view of a dark cave in the distance))\").lower()\n",
    "\n",
    "\n",
    "# if path==\"path1\":\n",
    "#     animal=input(\"pick an animal(bear/snake)\").lower()\n",
    "#     if animal==\"bear\":\n",
    "#         escape=input(\"wanna fight or escape? (climbTree/weapon)- \")\n",
    "#         if escape==\"climbTree\":\n",
    "#             print(\"bear leaves and you safely continue the journey\")\n",
    "#         else:\n",
    "#             battle=input(\"won battle? (win/loss)- \").lower()\n",
    "#             if battle==\"win\":\n",
    "#                 print(\"you continue your journey\")\n",
    "#             else:\n",
    "#                 print(\"you have to return back to heal\")\n",
    "#     else: #snake\n",
    "#         print(\"you saw a snake what you wanna do?\")\n",
    "#         escape=input(\"steparound/fight? \").lower()\n",
    "#         if escape==\"steparound\":\n",
    "#             print(\"you continue the journey\")\n",
    "#         else:\n",
    "#             battle=input(\"did you win? (win/loss)- \").lower()\n",
    "#             if battle==\"win\":\n",
    "#                 print(\"you continue your journey\")\n",
    "#             else:\n",
    "#                 print(\"you have to return back to heal\")\n",
    "# else: #path2\n",
    "#     print(\"you're at the entrance of the cave you got two options\")\n",
    "#     cave=input(\"enter cave or walk around? (enter/walk)- \")\n",
    "#     if cave==\"enter\":\n",
    "#         print(\"you got trapped!\")\n",
    "#         print(\"A giant boulder's coming towards you\")\n",
    "#         run=input(\"hide/run?\")\n",
    "#         if run==\"run\":\n",
    "#             hit=input(\"did you get hit? (hit/noHit)\")\n",
    "#             if hit==\"hit\":\n",
    "#                 print(\"return back\")\n",
    "#             else:\n",
    "#                 print(\"you continue your journey\")\n",
    "#         else:\n",
    "#             print(\"you continue you journey\")\n",
    "#     else:\n",
    "#         print(\"you're walking around\")\n",
    "#         treasure=input(\"did you find treasure? (treasure/noTreasure)\")\n",
    "#         if treasure==\"treasure\":\n",
    "#             print(\"congo you're rich af\")\n",
    "#         else:\n",
    "#             print(\"you witnessed another animal. Goodluck!\")\n"
   ]
  },
  {
   "cell_type": "code",
   "execution_count": 68,
   "id": "32e2655b",
   "metadata": {},
   "outputs": [
    {
     "name": "stdout",
     "output_type": "stream",
     "text": [
      "1 * 1 = 1 \n",
      "1 * 2 = 2 \n",
      "1 * 3 = 3 \n",
      "1 * 4 = 4 \n",
      "1 * 5 = 5 \n",
      "1 * 6 = 6 \n",
      "1 * 7 = 7 \n",
      "1 * 8 = 8 \n",
      "1 * 9 = 9 \n",
      "1 * 10 = 10 \n",
      "1 * 11 = 11 \n",
      "1 * 12 = 12 \n",
      "1 * 13 = 13 \n",
      "1 * 14 = 14 \n",
      "1 * 15 = 15 \n",
      "1 * 16 = 16 \n",
      "1 * 17 = 17 \n",
      "1 * 18 = 18 \n",
      "1 * 19 = 19 \n",
      "1 * 20 = 20 \n",
      "\n",
      "2 * 1 = 2 \n",
      "2 * 2 = 4 \n",
      "2 * 3 = 6 \n",
      "2 * 4 = 8 \n",
      "2 * 5 = 10 \n",
      "2 * 6 = 12 \n",
      "2 * 7 = 14 \n",
      "2 * 8 = 16 \n",
      "2 * 9 = 18 \n",
      "2 * 10 = 20 \n",
      "2 * 11 = 22 \n",
      "2 * 12 = 24 \n",
      "2 * 13 = 26 \n",
      "2 * 14 = 28 \n",
      "2 * 15 = 30 \n",
      "2 * 16 = 32 \n",
      "2 * 17 = 34 \n",
      "2 * 18 = 36 \n",
      "2 * 19 = 38 \n",
      "2 * 20 = 40 \n",
      "\n",
      "3 * 1 = 3 \n",
      "3 * 2 = 6 \n",
      "3 * 3 = 9 \n",
      "3 * 4 = 12 \n",
      "3 * 5 = 15 \n",
      "3 * 6 = 18 \n",
      "3 * 7 = 21 \n",
      "3 * 8 = 24 \n",
      "3 * 9 = 27 \n",
      "3 * 10 = 30 \n",
      "3 * 11 = 33 \n",
      "3 * 12 = 36 \n",
      "3 * 13 = 39 \n",
      "3 * 14 = 42 \n",
      "3 * 15 = 45 \n",
      "3 * 16 = 48 \n",
      "3 * 17 = 51 \n",
      "3 * 18 = 54 \n",
      "3 * 19 = 57 \n",
      "3 * 20 = 60 \n",
      "\n",
      "4 * 1 = 4 \n",
      "4 * 2 = 8 \n",
      "4 * 3 = 12 \n",
      "4 * 4 = 16 \n",
      "4 * 5 = 20 \n",
      "4 * 6 = 24 \n",
      "4 * 7 = 28 \n",
      "4 * 8 = 32 \n",
      "4 * 9 = 36 \n",
      "4 * 10 = 40 \n",
      "4 * 11 = 44 \n",
      "4 * 12 = 48 \n",
      "4 * 13 = 52 \n",
      "4 * 14 = 56 \n",
      "4 * 15 = 60 \n",
      "4 * 16 = 64 \n",
      "4 * 17 = 68 \n",
      "4 * 18 = 72 \n",
      "4 * 19 = 76 \n",
      "4 * 20 = 80 \n",
      "\n",
      "5 * 1 = 5 \n",
      "5 * 2 = 10 \n",
      "5 * 3 = 15 \n",
      "5 * 4 = 20 \n",
      "5 * 5 = 25 \n",
      "5 * 6 = 30 \n",
      "5 * 7 = 35 \n",
      "5 * 8 = 40 \n",
      "5 * 9 = 45 \n",
      "5 * 10 = 50 \n",
      "5 * 11 = 55 \n",
      "5 * 12 = 60 \n",
      "5 * 13 = 65 \n",
      "5 * 14 = 70 \n",
      "5 * 15 = 75 \n",
      "5 * 16 = 80 \n",
      "5 * 17 = 85 \n",
      "5 * 18 = 90 \n",
      "5 * 19 = 95 \n",
      "5 * 20 = 100 \n",
      "\n",
      "6 * 1 = 6 \n",
      "6 * 2 = 12 \n",
      "6 * 3 = 18 \n",
      "6 * 4 = 24 \n",
      "6 * 5 = 30 \n",
      "6 * 6 = 36 \n",
      "6 * 7 = 42 \n",
      "6 * 8 = 48 \n",
      "6 * 9 = 54 \n",
      "6 * 10 = 60 \n",
      "6 * 11 = 66 \n",
      "6 * 12 = 72 \n",
      "6 * 13 = 78 \n",
      "6 * 14 = 84 \n",
      "6 * 15 = 90 \n",
      "6 * 16 = 96 \n",
      "6 * 17 = 102 \n",
      "6 * 18 = 108 \n",
      "6 * 19 = 114 \n",
      "6 * 20 = 120 \n",
      "\n",
      "7 * 1 = 7 \n",
      "7 * 2 = 14 \n",
      "7 * 3 = 21 \n",
      "7 * 4 = 28 \n",
      "7 * 5 = 35 \n",
      "7 * 6 = 42 \n",
      "7 * 7 = 49 \n",
      "7 * 8 = 56 \n",
      "7 * 9 = 63 \n",
      "7 * 10 = 70 \n",
      "7 * 11 = 77 \n",
      "7 * 12 = 84 \n",
      "7 * 13 = 91 \n",
      "7 * 14 = 98 \n",
      "7 * 15 = 105 \n",
      "7 * 16 = 112 \n",
      "7 * 17 = 119 \n",
      "7 * 18 = 126 \n",
      "7 * 19 = 133 \n",
      "7 * 20 = 140 \n",
      "\n",
      "8 * 1 = 8 \n",
      "8 * 2 = 16 \n",
      "8 * 3 = 24 \n",
      "8 * 4 = 32 \n",
      "8 * 5 = 40 \n",
      "8 * 6 = 48 \n",
      "8 * 7 = 56 \n",
      "8 * 8 = 64 \n",
      "8 * 9 = 72 \n",
      "8 * 10 = 80 \n",
      "8 * 11 = 88 \n",
      "8 * 12 = 96 \n",
      "8 * 13 = 104 \n",
      "8 * 14 = 112 \n",
      "8 * 15 = 120 \n",
      "8 * 16 = 128 \n",
      "8 * 17 = 136 \n",
      "8 * 18 = 144 \n",
      "8 * 19 = 152 \n",
      "8 * 20 = 160 \n",
      "\n",
      "9 * 1 = 9 \n",
      "9 * 2 = 18 \n",
      "9 * 3 = 27 \n",
      "9 * 4 = 36 \n",
      "9 * 5 = 45 \n",
      "9 * 6 = 54 \n",
      "9 * 7 = 63 \n",
      "9 * 8 = 72 \n",
      "9 * 9 = 81 \n",
      "9 * 10 = 90 \n",
      "9 * 11 = 99 \n",
      "9 * 12 = 108 \n",
      "9 * 13 = 117 \n",
      "9 * 14 = 126 \n",
      "9 * 15 = 135 \n",
      "9 * 16 = 144 \n",
      "9 * 17 = 153 \n",
      "9 * 18 = 162 \n",
      "9 * 19 = 171 \n",
      "9 * 20 = 180 \n",
      "\n",
      "10 * 1 = 10 \n",
      "10 * 2 = 20 \n",
      "10 * 3 = 30 \n",
      "10 * 4 = 40 \n",
      "10 * 5 = 50 \n",
      "10 * 6 = 60 \n",
      "10 * 7 = 70 \n",
      "10 * 8 = 80 \n",
      "10 * 9 = 90 \n",
      "10 * 10 = 100 \n",
      "10 * 11 = 110 \n",
      "10 * 12 = 120 \n",
      "10 * 13 = 130 \n",
      "10 * 14 = 140 \n",
      "10 * 15 = 150 \n",
      "10 * 16 = 160 \n",
      "10 * 17 = 170 \n",
      "10 * 18 = 180 \n",
      "10 * 19 = 190 \n",
      "10 * 20 = 200 \n",
      "\n",
      "11 * 1 = 11 \n",
      "11 * 2 = 22 \n",
      "11 * 3 = 33 \n",
      "11 * 4 = 44 \n",
      "11 * 5 = 55 \n",
      "11 * 6 = 66 \n",
      "11 * 7 = 77 \n",
      "11 * 8 = 88 \n",
      "11 * 9 = 99 \n",
      "11 * 10 = 110 \n",
      "11 * 11 = 121 \n",
      "11 * 12 = 132 \n",
      "11 * 13 = 143 \n",
      "11 * 14 = 154 \n",
      "11 * 15 = 165 \n",
      "11 * 16 = 176 \n",
      "11 * 17 = 187 \n",
      "11 * 18 = 198 \n",
      "11 * 19 = 209 \n",
      "11 * 20 = 220 \n",
      "\n",
      "12 * 1 = 12 \n",
      "12 * 2 = 24 \n",
      "12 * 3 = 36 \n",
      "12 * 4 = 48 \n",
      "12 * 5 = 60 \n",
      "12 * 6 = 72 \n",
      "12 * 7 = 84 \n",
      "12 * 8 = 96 \n",
      "12 * 9 = 108 \n",
      "12 * 10 = 120 \n",
      "12 * 11 = 132 \n",
      "12 * 12 = 144 \n",
      "12 * 13 = 156 \n",
      "12 * 14 = 168 \n",
      "12 * 15 = 180 \n",
      "12 * 16 = 192 \n",
      "12 * 17 = 204 \n",
      "12 * 18 = 216 \n",
      "12 * 19 = 228 \n",
      "12 * 20 = 240 \n",
      "\n",
      "13 * 1 = 13 \n",
      "13 * 2 = 26 \n",
      "13 * 3 = 39 \n",
      "13 * 4 = 52 \n",
      "13 * 5 = 65 \n",
      "13 * 6 = 78 \n",
      "13 * 7 = 91 \n",
      "13 * 8 = 104 \n",
      "13 * 9 = 117 \n",
      "13 * 10 = 130 \n",
      "13 * 11 = 143 \n",
      "13 * 12 = 156 \n",
      "13 * 13 = 169 \n",
      "13 * 14 = 182 \n",
      "13 * 15 = 195 \n",
      "13 * 16 = 208 \n",
      "13 * 17 = 221 \n",
      "13 * 18 = 234 \n",
      "13 * 19 = 247 \n",
      "13 * 20 = 260 \n",
      "\n",
      "14 * 1 = 14 \n",
      "14 * 2 = 28 \n",
      "14 * 3 = 42 \n",
      "14 * 4 = 56 \n",
      "14 * 5 = 70 \n",
      "14 * 6 = 84 \n",
      "14 * 7 = 98 \n",
      "14 * 8 = 112 \n",
      "14 * 9 = 126 \n",
      "14 * 10 = 140 \n",
      "14 * 11 = 154 \n",
      "14 * 12 = 168 \n",
      "14 * 13 = 182 \n",
      "14 * 14 = 196 \n",
      "14 * 15 = 210 \n",
      "14 * 16 = 224 \n",
      "14 * 17 = 238 \n",
      "14 * 18 = 252 \n",
      "14 * 19 = 266 \n",
      "14 * 20 = 280 \n",
      "\n",
      "15 * 1 = 15 \n",
      "15 * 2 = 30 \n",
      "15 * 3 = 45 \n",
      "15 * 4 = 60 \n",
      "15 * 5 = 75 \n",
      "15 * 6 = 90 \n",
      "15 * 7 = 105 \n",
      "15 * 8 = 120 \n",
      "15 * 9 = 135 \n",
      "15 * 10 = 150 \n",
      "15 * 11 = 165 \n",
      "15 * 12 = 180 \n",
      "15 * 13 = 195 \n",
      "15 * 14 = 210 \n",
      "15 * 15 = 225 \n",
      "15 * 16 = 240 \n",
      "15 * 17 = 255 \n",
      "15 * 18 = 270 \n",
      "15 * 19 = 285 \n",
      "15 * 20 = 300 \n",
      "\n",
      "16 * 1 = 16 \n",
      "16 * 2 = 32 \n",
      "16 * 3 = 48 \n",
      "16 * 4 = 64 \n",
      "16 * 5 = 80 \n",
      "16 * 6 = 96 \n",
      "16 * 7 = 112 \n",
      "16 * 8 = 128 \n",
      "16 * 9 = 144 \n",
      "16 * 10 = 160 \n",
      "16 * 11 = 176 \n",
      "16 * 12 = 192 \n",
      "16 * 13 = 208 \n",
      "16 * 14 = 224 \n",
      "16 * 15 = 240 \n",
      "16 * 16 = 256 \n",
      "16 * 17 = 272 \n",
      "16 * 18 = 288 \n",
      "16 * 19 = 304 \n",
      "16 * 20 = 320 \n",
      "\n",
      "17 * 1 = 17 \n",
      "17 * 2 = 34 \n",
      "17 * 3 = 51 \n",
      "17 * 4 = 68 \n",
      "17 * 5 = 85 \n",
      "17 * 6 = 102 \n",
      "17 * 7 = 119 \n",
      "17 * 8 = 136 \n",
      "17 * 9 = 153 \n",
      "17 * 10 = 170 \n",
      "17 * 11 = 187 \n",
      "17 * 12 = 204 \n",
      "17 * 13 = 221 \n",
      "17 * 14 = 238 \n",
      "17 * 15 = 255 \n",
      "17 * 16 = 272 \n",
      "17 * 17 = 289 \n",
      "17 * 18 = 306 \n",
      "17 * 19 = 323 \n",
      "17 * 20 = 340 \n",
      "\n",
      "18 * 1 = 18 \n",
      "18 * 2 = 36 \n",
      "18 * 3 = 54 \n",
      "18 * 4 = 72 \n",
      "18 * 5 = 90 \n",
      "18 * 6 = 108 \n",
      "18 * 7 = 126 \n",
      "18 * 8 = 144 \n",
      "18 * 9 = 162 \n",
      "18 * 10 = 180 \n",
      "18 * 11 = 198 \n",
      "18 * 12 = 216 \n",
      "18 * 13 = 234 \n",
      "18 * 14 = 252 \n",
      "18 * 15 = 270 \n",
      "18 * 16 = 288 \n",
      "18 * 17 = 306 \n",
      "18 * 18 = 324 \n",
      "18 * 19 = 342 \n",
      "18 * 20 = 360 \n",
      "\n",
      "19 * 1 = 19 \n",
      "19 * 2 = 38 \n",
      "19 * 3 = 57 \n",
      "19 * 4 = 76 \n",
      "19 * 5 = 95 \n",
      "19 * 6 = 114 \n",
      "19 * 7 = 133 \n",
      "19 * 8 = 152 \n",
      "19 * 9 = 171 \n",
      "19 * 10 = 190 \n",
      "19 * 11 = 209 \n",
      "19 * 12 = 228 \n",
      "19 * 13 = 247 \n",
      "19 * 14 = 266 \n",
      "19 * 15 = 285 \n",
      "19 * 16 = 304 \n",
      "19 * 17 = 323 \n",
      "19 * 18 = 342 \n",
      "19 * 19 = 361 \n",
      "19 * 20 = 380 \n",
      "\n",
      "20 * 1 = 20 \n",
      "20 * 2 = 40 \n",
      "20 * 3 = 60 \n",
      "20 * 4 = 80 \n",
      "20 * 5 = 100 \n",
      "20 * 6 = 120 \n",
      "20 * 7 = 140 \n",
      "20 * 8 = 160 \n",
      "20 * 9 = 180 \n",
      "20 * 10 = 200 \n",
      "20 * 11 = 220 \n",
      "20 * 12 = 240 \n",
      "20 * 13 = 260 \n",
      "20 * 14 = 280 \n",
      "20 * 15 = 300 \n",
      "20 * 16 = 320 \n",
      "20 * 17 = 340 \n",
      "20 * 18 = 360 \n",
      "20 * 19 = 380 \n",
      "20 * 20 = 400 \n",
      "\n"
     ]
    }
   ],
   "source": [
    "# #20 tables 20steps\n",
    "\n",
    "# for i in range(1,21):\n",
    "#     for j in range(1,21):\n",
    "#         print(f\"{i} * {j} = {i*j} \")\n",
    "#     print(\"\")"
   ]
  },
  {
   "cell_type": "code",
   "execution_count": 5,
   "id": "0aace5d2",
   "metadata": {},
   "outputs": [
    {
     "name": "stdout",
     "output_type": "stream",
     "text": [
      "enter the number- 44\n",
      "47\n"
     ]
    }
   ],
   "source": [
    "number=int(input(\"enter the number- \"))\n",
    "while(True):\n",
    "    number+=1\n",
    "    count=0\n",
    "    for i in range(1,number+1):\n",
    "        if number%i==0:\n",
    "            count+=1\n",
    "    if count ==2:\n",
    "        print(i)\n",
    "        break"
   ]
  },
  {
   "cell_type": "code",
   "execution_count": 1,
   "id": "4fed9f14",
   "metadata": {},
   "outputs": [
    {
     "name": "stdout",
     "output_type": "stream",
     "text": [
      "enter the number- 2\n"
     ]
    }
   ],
   "source": [
    "# number=int(input(\"enter the number- \"))\n",
    "# while(number>0):\n",
    "#     number-=1\n",
    "#     count=0\n",
    "#     for i in range(1,number+1):\n",
    "#         if number%i==0:\n",
    "#             count+=1\n",
    "#     if count ==2:\n",
    "#         print(i)\n",
    "#         break"
   ]
  },
  {
   "cell_type": "code",
   "execution_count": null,
   "id": "5802945b",
   "metadata": {},
   "outputs": [],
   "source": []
  },
  {
   "cell_type": "code",
   "execution_count": 13,
   "id": "c0530bc0",
   "metadata": {},
   "outputs": [
    {
     "name": "stdout",
     "output_type": "stream",
     "text": [
      "enter the range- 5\n",
      "0\n",
      "1\n",
      "1\n",
      "2\n",
      "3\n"
     ]
    }
   ],
   "source": [
    "#fibbnocci series\n",
    "\n",
    "n=int(input(\"enter the range- \"))\n",
    "n1=0\n",
    "n2=1\n",
    "print(n1)\n",
    "print(n2)\n",
    "for i in range(2,n):\n",
    "    fib=n1+n2\n",
    "    n1=n2\n",
    "    n2=fib\n",
    "    print(fib)"
   ]
  },
  {
   "cell_type": "code",
   "execution_count": null,
   "id": "5248d411",
   "metadata": {},
   "outputs": [],
   "source": [
    "#perfect number\n",
    "\n",
    "num=int(input())\n",
    "count=0\n",
    "for i in range(1,num):\n",
    "    if (num%i==0):\n",
    "        count+=i\n",
    "    else:\n",
    "        continue\n",
    "if (count==num):\n",
    "    print(\"perfect\")\n",
    "else:\n",
    "    print(\"not perfect\")"
   ]
  },
  {
   "cell_type": "code",
   "execution_count": 17,
   "id": "76832f8f",
   "metadata": {},
   "outputs": [
    {
     "name": "stdout",
     "output_type": "stream",
     "text": [
      "1634\n",
      "armstrong\n"
     ]
    }
   ],
   "source": [
    "#armstrong\n",
    "\n",
    "num=input()\n",
    "arm=0\n",
    "for i in range(len(num)):\n",
    "    temp=int(num[i])\n",
    "    temp=temp**len(num)\n",
    "    arm+=temp\n",
    "    \n",
    "print(\"armstrong\") if int(num)==arm else \"not armstrong\""
   ]
  },
  {
   "cell_type": "code",
   "execution_count": 2,
   "id": "69292ac4",
   "metadata": {},
   "outputs": [
    {
     "name": "stdout",
     "output_type": "stream",
     "text": [
      "number?54321\n",
      "1st digit's higher\n"
     ]
    }
   ],
   "source": [
    "num=input(\"number?\")\n",
    "if (int(num[0])==int(num[len(num)-1])):\n",
    "    print(\"both r equal\")\n",
    "else:\n",
    "    print(\"1st digit's higher\") if int(num[0]) > int(num[len(num)-1]) else print(\"last digit's higher\")"
   ]
  },
  {
   "cell_type": "code",
   "execution_count": 2,
   "id": "80b7eb73",
   "metadata": {},
   "outputs": [
    {
     "name": "stdout",
     "output_type": "stream",
     "text": [
      "enter number? 22222\n",
      "10\n"
     ]
    }
   ],
   "source": [
    "# sum of digits in a number\n",
    "\n",
    "number=input(\"enter number? \")\n",
    "ans=0\n",
    "if (int(number)%2==0):\n",
    "    for i in range(len(number)):\n",
    "        ans+=int(number[i])\n",
    "    print(ans)    \n",
    "else:\n",
    "    print(\"not an even number\")"
   ]
  },
  {
   "cell_type": "markdown",
   "id": "88863f99",
   "metadata": {},
   "source": [
    "# functions"
   ]
  },
  {
   "cell_type": "code",
   "execution_count": 5,
   "id": "508d5ec1",
   "metadata": {},
   "outputs": [
    {
     "name": "stdout",
     "output_type": "stream",
     "text": [
      "odd\n"
     ]
    }
   ],
   "source": [
    "def evenorodd(n):\n",
    "    return \"even\" if n%2==0 else \"odd\"\n",
    "\n",
    "print(evenorodd(3))"
   ]
  },
  {
   "cell_type": "code",
   "execution_count": 12,
   "id": "f69c87c5",
   "metadata": {},
   "outputs": [
    {
     "name": "stdout",
     "output_type": "stream",
     "text": [
      "number?23\n",
      "True\n"
     ]
    }
   ],
   "source": [
    "#prime or not\n",
    "\n",
    "def prime(n):\n",
    "    if n<2:\n",
    "        return False\n",
    "    for i in range(2,int(n**0.5)+1):\n",
    "        if n%i==0:\n",
    "            return False\n",
    "    return True\n",
    "\n",
    "number=int(input(\"number?\"))\n",
    "print(prime(number))"
   ]
  },
  {
   "cell_type": "code",
   "execution_count": 28,
   "id": "35210049",
   "metadata": {},
   "outputs": [
    {
     "name": "stdout",
     "output_type": "stream",
     "text": [
      "True\n"
     ]
    }
   ],
   "source": [
    "#armstrong\n",
    "\n",
    "def isArmstrong(n):\n",
    "    n=str(n)\n",
    "    temp=0\n",
    "    total=0\n",
    "    for i in range(len(n)):\n",
    "        temp=int(n[i])**len(n)\n",
    "        total+=temp\n",
    "    if total == int(n):\n",
    "        return True\n",
    "    return False\n",
    "                   \n",
    "print(isArmstrong(153))"
   ]
  },
  {
   "cell_type": "code",
   "execution_count": 30,
   "id": "293dbd96",
   "metadata": {},
   "outputs": [
    {
     "name": "stdout",
     "output_type": "stream",
     "text": [
      "['153', '370', '371', '407', '1634', '8208', '9474']\n"
     ]
    }
   ],
   "source": [
    "#armstrong range\n",
    "\n",
    "def isArmstrongRange(lb,up):\n",
    "    arr=[]\n",
    "    up+=1\n",
    "    for i in range(lb,up):\n",
    "        i=str(i)\n",
    "        temp=0\n",
    "        total=0\n",
    "        for j in range(len(i)):\n",
    "            temp=int(i[j])**len(i)\n",
    "            total+=temp\n",
    "        if total == int(i):\n",
    "            arr.append(i)\n",
    "    return arr\n",
    "\n",
    "print(isArmstrongRange(100,10000))\n",
    "    "
   ]
  },
  {
   "cell_type": "code",
   "execution_count": 44,
   "id": "ef5b0058",
   "metadata": {},
   "outputs": [
    {
     "name": "stdout",
     "output_type": "stream",
     "text": [
      "13\n"
     ]
    }
   ],
   "source": [
    "#nearest prime(both sides)\n",
    "\n",
    "def nearestPrime(n):\n",
    "    if isPrime(n):\n",
    "        return n\n",
    "    \n",
    "    if abs(n - leftPrime(n)) <= abs(n - rightPrime(n)):\n",
    "        return leftPrime(n)\n",
    "    return rightPrime(n)\n",
    "\n",
    "def isPrime(n):\n",
    "    if n<2:\n",
    "        return False\n",
    "    for i in range(2,int(n**0.5)+1):\n",
    "        if n%i==0:\n",
    "            return False\n",
    "    return True\n",
    "\n",
    "def rightPrime(n):\n",
    "    while not isPrime(n):\n",
    "        n+=1\n",
    "    return n\n",
    "    \n",
    "def leftPrime(n):\n",
    "    while n>1 and not isPrime(n):\n",
    "        n-=1\n",
    "    return n\n",
    "\n",
    "\n",
    "print(nearestPrime(15))"
   ]
  },
  {
   "cell_type": "code",
   "execution_count": 60,
   "id": "facfd04e",
   "metadata": {},
   "outputs": [
    {
     "name": "stdout",
     "output_type": "stream",
     "text": [
      "number? 5\n",
      "[0, 1, 1, 2, 3]\n"
     ]
    }
   ],
   "source": [
    "#fibbonaci series in function\n",
    "\n",
    "def fib(n):\n",
    "    if n<2:\n",
    "        return 0\n",
    "    arr=[0,1]\n",
    "    n1=arr[0]\n",
    "    n2=arr[1]\n",
    "    for i in range(2,n):\n",
    "        temp=n1+n2\n",
    "        n1=n2\n",
    "        n2=temp\n",
    "        arr.append(temp)\n",
    "    return arr\n",
    "\n",
    "fibbb=int(input(\"number? \"))\n",
    "print(fib(fibbb))"
   ]
  },
  {
   "cell_type": "code",
   "execution_count": 1,
   "id": "93ea0374",
   "metadata": {},
   "outputs": [
    {
     "name": "stdout",
     "output_type": "stream",
     "text": [
      "Enter the start of the range: 1\n",
      "Enter the end of the range: 100\n",
      "Prime numbers between 1 and 100: [2, 3, 5, 7, 11, 13, 17, 19, 23, 29, 31, 37, 41, 43, 47, 53, 59, 61, 67, 71, 73, 79, 83, 89, 97]\n"
     ]
    }
   ],
   "source": [
    "def is_prime(n):\n",
    "    if n < 2:\n",
    "        return False\n",
    "    for i in range(2, int(n ** 0.5) + 1):\n",
    "        if n % i == 0:\n",
    "            return False\n",
    "    return True\n",
    "\n",
    "def primes_in_range(start, end):\n",
    "    primes = [num for num in range(start, end + 1) if is_prime(num)]\n",
    "    return primes\n",
    "\n",
    "start = int(input(\"Enter the start of the range: \"))\n",
    "end = int(input(\"Enter the end of the range: \"))\n",
    "prime_numbers = primes_in_range(start, end)\n",
    "\n",
    "print(f\"Prime numbers between {start} and {end}: {prime_numbers}\")\n"
   ]
  },
  {
   "cell_type": "code",
   "execution_count": 2,
   "id": "ec609049",
   "metadata": {},
   "outputs": [
    {
     "name": "stdout",
     "output_type": "stream",
     "text": [
      "Enter a number: 5674\n",
      "Sum of non-prime digits in 5674: 10\n"
     ]
    }
   ],
   "source": [
    "def is_prime(n):\n",
    "    if n in (2, 3, 5, 7):\n",
    "        return True\n",
    "    return False\n",
    "\n",
    "def sum_of_non_prime_digits(num):\n",
    "    return sum(int(digit) for digit in str(num) if not is_prime(int(digit)))\n",
    "\n",
    "num = int(input(\"Enter a number: \"))\n",
    "result = sum_of_non_prime_digits(num)\n",
    "\n",
    "print(f\"Sum of non-prime digits in {num}: {result}\")\n"
   ]
  },
  {
   "cell_type": "code",
   "execution_count": 3,
   "id": "75bc0cf2",
   "metadata": {},
   "outputs": [
    {
     "name": "stdout",
     "output_type": "stream",
     "text": [
      "Enter a number: 57374565673\n",
      "Maximum prime digit in 57374565673: 7\n"
     ]
    }
   ],
   "source": [
    "def is_prime_digit(digit):\n",
    "    return digit in {2, 3, 5, 7}\n",
    "\n",
    "def max_prime_digit(num):\n",
    "    prime_digits = [int(d) for d in str(num) if is_prime_digit(int(d))]\n",
    "    return max(prime_digits, default=None)  # Return None if no prime digits found\n",
    "\n",
    "# Example usage\n",
    "num = int(input(\"Enter a number: \"))\n",
    "max_prime = max_prime_digit(num)\n",
    "\n",
    "if max_prime is not None:\n",
    "    print(f\"Maximum prime digit in {num}: {max_prime}\")\n",
    "else:\n",
    "    print(f\"No prime digits found in {num}.\")\n"
   ]
  },
  {
   "cell_type": "code",
   "execution_count": 4,
   "id": "8da3563c",
   "metadata": {},
   "outputs": [
    {
     "name": "stdout",
     "output_type": "stream",
     "text": [
      "Non-Fibonacci numbers between 1 and 100:\n",
      "[4, 6, 7, 9, 10, 11, 12, 14, 15, 16, 17, 18, 19, 20, 22, 23, 24, 25, 26, 27, 28, 29, 30, 31, 32, 33, 35, 36, 37, 38, 39, 40, 41, 42, 43, 44, 45, 46, 47, 48, 49, 50, 51, 52, 53, 54, 56, 57, 58, 59, 60, 61, 62, 63, 64, 65, 66, 67, 68, 69, 70, 71, 72, 73, 74, 75, 76, 77, 78, 79, 80, 81, 82, 83, 84, 85, 86, 87, 88, 90, 91, 92, 93, 94, 95, 96, 97, 98, 99, 100]\n"
     ]
    }
   ],
   "source": [
    "def generate_fibonacci(limit):\n",
    "    fib_set = set()\n",
    "    a, b = 0, 1\n",
    "    while a <= limit:\n",
    "        fib_set.add(a)\n",
    "        a, b = b, a + b\n",
    "    return fib_set\n",
    "\n",
    "def non_fibonacci_numbers(start, end):\n",
    "    fib_set = generate_fibonacci(end)\n",
    "    return [num for num in range(start, end + 1) if num not in fib_set]\n",
    "\n",
    "# Example usage\n",
    "start, end = 1, 100\n",
    "non_fib_nums = non_fibonacci_numbers(start, end)\n",
    "\n",
    "print(f\"Non-Fibonacci numbers between {start} and {end}:\")\n",
    "print(non_fib_nums)\n"
   ]
  },
  {
   "cell_type": "code",
   "execution_count": 1,
   "id": "2665982b",
   "metadata": {},
   "outputs": [
    {
     "name": "stdout",
     "output_type": "stream",
     "text": [
      "(9, -10, 35)\n",
      "max 9\n",
      "min -10\n",
      "sum 35\n"
     ]
    }
   ],
   "source": [
    "#return max, min and sum of a list\n",
    "\n",
    "def maxminsum(arr):\n",
    "    if not arr:\n",
    "        return\n",
    "    \n",
    "    maxi=mini=arr[0]\n",
    "    total=0\n",
    "    for i in arr:\n",
    "        maxi=i if i>maxi else maxi\n",
    "        mini=i if i<mini else mini\n",
    "        total+=i\n",
    "    return maxi, mini, total\n",
    "\n",
    "\n",
    "arr=[1,2,3,4,5,9,8,7,6,-10]\n",
    "# arr=[]\n",
    "print(maxminsum(arr))\n",
    "finalTuple=maxminsum(arr)\n",
    "if finalTuple:\n",
    "    print(f\"max {finalTuple[0]}\")\n",
    "    print(f\"min {finalTuple[1]}\")    \n",
    "    print(f\"sum {finalTuple[2]}\")   \n",
    "else:\n",
    "    print(\"tuple empty\")"
   ]
  },
  {
   "cell_type": "code",
   "execution_count": 2,
   "id": "271cef48",
   "metadata": {},
   "outputs": [
    {
     "name": "stdout",
     "output_type": "stream",
     "text": [
      "3\n"
     ]
    }
   ],
   "source": [
    "#find if an element exists in a list and return it's index\n",
    "#14th feb assig 1\n",
    "\n",
    "#linear search - O(n), O(1)\n",
    "def findElement(arr,x):\n",
    "    for i in range(len(arr)):\n",
    "        if x==arr[i]:\n",
    "            return i\n",
    "    return \"not found\"\n",
    "    \n",
    "# arr=[1,3,5,7,9,0,2,4,6,8]\n",
    "arr=list(map(float,input(\"enter the list numbers with CSV\").split(\",\")))\n",
    "print(findElement(arr,4))"
   ]
  },
  {
   "cell_type": "code",
   "execution_count": 4,
   "id": "3d5e647d",
   "metadata": {},
   "outputs": [
    {
     "name": "stdout",
     "output_type": "stream",
     "text": [
      "[{'one': {'o': 1, 'n': 1, 'e': 1}}, {'two': {'t': 1, 'w': 1, 'o': 1}}, {'three': {'t': 1, 'h': 1, 'r': 1, 'e': 2}}]\n"
     ]
    }
   ],
   "source": [
    "#letter count in list of dictionaries\n",
    "\n",
    "#with single string\n",
    "# str1=input(\"string? \")\n",
    "\n",
    "# res={}\n",
    "# for char in str1:\n",
    "#     if char in res:\n",
    "#         res[char]+=1\n",
    "#     else:\n",
    "#         res[char]=1\n",
    "# print(res)\n",
    "\n",
    "\n",
    "ls=[\"one\",\"two\",\"three\"]\n",
    "resLs=[]\n",
    "for string in ls:\n",
    "    res={}\n",
    "    for char in string:\n",
    "        if char in res:\n",
    "            res[char]+=1\n",
    "        else:\n",
    "            res[char]=1\n",
    "    resLs.append({string:res})\n",
    "print(resLs)"
   ]
  },
  {
   "cell_type": "code",
   "execution_count": 3,
   "id": "5652aafd",
   "metadata": {},
   "outputs": [
    {
     "name": "stdout",
     "output_type": "stream",
     "text": [
      "[1, 2, 3, 4, 5, 6]\n"
     ]
    }
   ],
   "source": [
    "#removing duplicates in a list\n",
    "\n",
    "lst=[1,2,3,4,4,5,5,5,6,6,6,6]\n",
    "result=set(lst)\n",
    "result=list(result)\n",
    "print(result)"
   ]
  },
  {
   "cell_type": "code",
   "execution_count": null,
   "id": "1e9b940e",
   "metadata": {},
   "outputs": [
    {
     "name": "stdout",
     "output_type": "stream",
     "text": [
      "[9, 8, 9]\n"
     ]
    }
   ],
   "source": [
    "# max in each list and return as a list \n",
    "\n",
    "lst = [[1, 2, 3, 9, 2, 1], [1, 6, 5, 8, 4, 6], [8, 5, 9, 3, 2]]\n",
    "\n",
    "def findMax(sublist):\n",
    "    max_value = float(\"-inf\")\n",
    "    for num in sublist: \n",
    "        max_value = num if num > max_value else max_value\n",
    "    return max_value\n",
    "\n",
    "def findMaxList(lst):\n",
    "    res = []\n",
    "    for sublist in lst: \n",
    "        res.append(findMax(sublist)) \n",
    "    return res\n",
    "\n",
    "\n",
    "print(findMaxList(lst))\n"
   ]
  },
  {
   "cell_type": "code",
   "execution_count": null,
   "id": "9c032df1",
   "metadata": {},
   "outputs": [
    {
     "data": {
      "text/plain": [
       "-1"
      ]
     },
     "execution_count": 19,
     "metadata": {},
     "output_type": "execute_result"
    }
   ],
   "source": [
    "#binary search\n",
    "\n",
    "lst=[1,8,22,44,76,999,2323]\n",
    "\n",
    "def binarySearch(x,lst):\n",
    "    low=0\n",
    "    high=len(lst)-1\n",
    "    \n",
    "    while(low<=high):\n",
    "        mid=(low+high)//2\n",
    "\n",
    "        if lst[mid]==x:\n",
    "            return mid\n",
    "        elif x>lst[mid]:\n",
    "            low=mid+1\n",
    "        else:\n",
    "            high=mid-1\n",
    "    return -1    \n",
    "    \n",
    "binarySearch(1111,lst)\n",
    "# print(lst[binarySearch(999,lst)])\n",
    "        \n",
    "\n"
   ]
  },
  {
   "cell_type": "code",
   "execution_count": 18,
   "id": "29a49d18",
   "metadata": {},
   "outputs": [
    {
     "name": "stdout",
     "output_type": "stream",
     "text": [
      "5\n"
     ]
    }
   ],
   "source": [
    "def binarySearchRecursive(x, arr, low, high):\n",
    "    if low <= high: \n",
    "        mid = (low + high) // 2\n",
    "\n",
    "        if arr[mid] == x: \n",
    "            return mid\n",
    "        elif x > arr[mid]:\n",
    "            return binarySearchRecursive(x, arr, mid + 1, high)\n",
    "        else:\n",
    "            return binarySearchRecursive(x, arr, low, mid - 1) \n",
    "    else:\n",
    "        return -1\n",
    "\n",
    "lst = [1, 8, 22, 44, 76, 999, 2323]\n",
    "print(binarySearchRecursive(999, lst, 0, len(lst) - 1))\n"
   ]
  },
  {
   "cell_type": "code",
   "execution_count": 32,
   "id": "a34a461a",
   "metadata": {},
   "outputs": [
    {
     "data": {
      "text/plain": [
       "[1, 2, 3, 3, 4, 5, 6, 6, 8, 9, 9]"
      ]
     },
     "execution_count": 32,
     "metadata": {},
     "output_type": "execute_result"
    }
   ],
   "source": [
    "#bubble sort\n",
    "\n",
    "lst=[9,3,6,1,6,8,3,4,9,2,5]\n",
    "\n",
    "def bubbleSort(arr):\n",
    "    n=len(arr)-1\n",
    "    swapped=False\n",
    "    for i in range(n):\n",
    "        for j in range(n-i):\n",
    "            if arr[j]>arr[j+1]:\n",
    "                arr[j],arr[j+1]=arr[j+1],arr[j]\n",
    "                swapped=True\n",
    "        if not swapped:\n",
    "            return arr\n",
    "    return arr\n",
    "\n",
    "\n",
    "bubbleSort(lst)"
   ]
  },
  {
   "cell_type": "code",
   "execution_count": 1,
   "id": "a4268d25",
   "metadata": {},
   "outputs": [
    {
     "name": "stdout",
     "output_type": "stream",
     "text": [
      "3=> 1\n",
      "4=> 2\n",
      "2=> 2\n"
     ]
    }
   ],
   "source": [
    "# Count Occurrences of Each Digit input: 2788 output: 2=> 1 7=> 1 8=> 2\n",
    "\n",
    "\n",
    "def count_digit_occurrences(number_str):\n",
    "    counts = {}\n",
    "    for digit in number_str:\n",
    "        counts[digit] = counts.get(digit, 0) + 1\n",
    "    return counts\n",
    "\n",
    "if __name__ == \"__main__\":\n",
    "    num_str = input(\"Enter a number: \")\n",
    "\n",
    "    counts = count_digit_occurrences(num_str)\n",
    "    printed = set()\n",
    "    for digit in num_str:\n",
    "        if digit not in printed:\n",
    "            print(f\"{digit}=> {counts[digit]}\")\n",
    "            printed.add(digit)\n"
   ]
  },
  {
   "cell_type": "code",
   "execution_count": 7,
   "id": "927d097d",
   "metadata": {},
   "outputs": [
    {
     "name": "stdout",
     "output_type": "stream",
     "text": [
      "[4, 17, 4, 16]\n"
     ]
    }
   ],
   "source": [
    "# Wap that takes an array of integers as input and calculates the sum of the digits of each number in the list.\n",
    "\n",
    "\n",
    "def sum_of_digits(n):\n",
    "    return sum(int(digit) for digit in str(n))\n",
    "\n",
    "def sum_digits_in_list(numbers):\n",
    "    return [sum_of_digits(num) for num in numbers]\n",
    "\n",
    "if __name__ == \"__main__\":\n",
    "    # Example input\n",
    "    numbers = [202, 89, 112, 88]\n",
    "    result = sum_digits_in_list(numbers)\n",
    "    print(result)\n"
   ]
  },
  {
   "cell_type": "code",
   "execution_count": null,
   "id": "ed7052f3",
   "metadata": {},
   "outputs": [],
   "source": [
    "# Wap to check if each number in an  list contains duplicate digits, returning true for duplicates and false for unique digits. \n",
    "# Input: [202,89,112,88 Output:[true ,false ,true ,true]\n",
    "\n",
    "\n",
    "# Wap to check if the digits of each number in an list are in increasing order, returning true or false for each Increasing order or not\n",
    "#  Input: [568,89,112,88,571]     Output: [true,true ,false,false ,false]"
   ]
  },
  {
   "cell_type": "code",
   "execution_count": 33,
   "id": "527b15ac",
   "metadata": {},
   "outputs": [
    {
     "name": "stdout",
     "output_type": "stream",
     "text": [
      "[1, 2, 3, 4, 5, 6, 7, 8, 9]\n",
      "[9, 8, 7, 6, 5, 4, 3, 2, 1]\n",
      "[9, 8, 7, 6, 5, 4, 3, 2, 1]\n",
      "[9, 8, 7, 6, 5, 4, 3, 2, 1]\n",
      "[9, 8, 7, 6, 5, 4, 3, 2, 1]\n"
     ]
    }
   ],
   "source": [
    "#reverse an array (list)\n",
    "\n",
    "lst=[1,2,3,4,5,6,7,8,9]\n",
    "# lst4=lst[:]\n",
    "lst2=[]\n",
    "lst3=[]\n",
    "# lst1=lst.copy()\n",
    "lst1=lst[::-1]\n",
    "print(lst)\n",
    "print(lst1)\n",
    "\n",
    "for i in range((len(lst)-1),-1,-1):\n",
    "    lst2.append(lst[i])\n",
    "print(lst2)\n",
    "\n",
    "\n",
    "# or \n",
    "for i in lst:\n",
    "    lst3.insert(0,i)\n",
    "print(lst3)\n",
    "\n",
    "\n",
    "# most effecient approach\n",
    "low=0\n",
    "high=len(lst)-1\n",
    "while(low<high):\n",
    "    lst[low],lst[high]=lst[high],lst[low]\n",
    "    low+=1\n",
    "    high-=1\n",
    "print(lst)\n",
    "\n",
    "# lst4[0]=999999\n",
    "# print(lst)"
   ]
  },
  {
   "cell_type": "code",
   "execution_count": 37,
   "id": "4f68bd41",
   "metadata": {},
   "outputs": [
    {
     "name": "stdout",
     "output_type": "stream",
     "text": [
      "Duplicates: [1, 2, 3]\n",
      "Unique Numbers: [4, 5, 6, 7, 8]\n"
     ]
    }
   ],
   "source": [
    "#wap to print duplicates and unique numbers in a list\n",
    "\n",
    "def find_duplicates_and_uniques(lst):\n",
    "    duplicates = set()\n",
    "    uniques = set()\n",
    "\n",
    "    seen = set()\n",
    "    for num in lst:\n",
    "        if num in seen:\n",
    "            duplicates.add(num)\n",
    "        else:\n",
    "            seen.add(num)\n",
    "    \n",
    "    uniques = seen - duplicates \n",
    "\n",
    "    print(\"Duplicates:\", list(duplicates))\n",
    "    print(\"Unique Numbers:\", list(uniques))\n",
    "\n",
    "numbers = [1, 2, 3, 4, 2, 5, 6, 3, 7, 8, 1]\n",
    "find_duplicates_and_uniques(numbers)\n"
   ]
  },
  {
   "cell_type": "code",
   "execution_count": null,
   "id": "5f686cc1",
   "metadata": {},
   "outputs": [
    {
     "name": "stdout",
     "output_type": "stream",
     "text": [
      "[True, False, True, False]\n",
      "[False, False, False, False]\n"
     ]
    }
   ],
   "source": [
    "# Wap to check if each number in an  list contains duplicate digits, returning true for duplicates and false for unique digits. \n",
    "# Input: [202,89,112,88] Output:[true ,false ,true ,true]\n",
    "\n",
    "\n",
    "\n",
    "def has_duplicate_digits(lst):\n",
    "    result = []\n",
    "    for num in lst:\n",
    "        num_str = str(num)\n",
    "        digit_set = set(num_str)\n",
    "        result.append(len(digit_set) != len(num_str)) \n",
    "    return result\n",
    "\n",
    "# Example usage\n",
    "numbers = [\"gggg\", 89, 112, \"abcd\"]\n",
    "print(has_duplicate_digits(numbers))\n",
    "\n",
    "\n",
    "#Incorrect\n",
    "def duplicateExists(num1):\n",
    "    curr_list=[]\n",
    "    while num1>0:\n",
    "        rem=num1%10\n",
    "        if rem in curr_list:\n",
    "            return True\n",
    "        curr_list.append(rem)\n",
    "        num1=num1//10\n",
    "    return False\n",
    "\n",
    "def duplicatesInList(arr):\n",
    "    res=[]\n",
    "    for i in range(len(arr)):\n",
    "        res.append(duplicateExists(i))\n",
    "    return res\n",
    "\n",
    "numbers=[123,222,234,5555]\n",
    "print(duplicatesInList(numbers))\n",
    "\n"
   ]
  },
  {
   "cell_type": "code",
   "execution_count": null,
   "id": "ffaa6c31",
   "metadata": {},
   "outputs": [],
   "source": [
    "# Wap to check if the digits of each number in an list are in increasing order, returning true or false for each Increasing order or not\n",
    "#  Input: [568,89,112,88,571]     Output: [true,true ,false,false ,false]\n",
    "\n",
    "# and 17th question\n",
    "\n",
    "#19th question"
   ]
  },
  {
   "cell_type": "code",
   "execution_count": 1,
   "id": "64b48423",
   "metadata": {},
   "outputs": [
    {
     "data": {
      "text/plain": [
       "'567'"
      ]
     },
     "execution_count": 1,
     "metadata": {},
     "output_type": "execute_result"
    }
   ],
   "source": [
    "#find the missing numbers ip: 34571 op:26\n",
    "\n",
    "\n",
    "def missing(num):\n",
    "    num=str(num)\n",
    "    tempLst=[int(digit) for digit in num]\n",
    "    resStr=\"\"\n",
    "    largestInList=max(tempLst)\n",
    "    allnumber=[x for x in range(1,int(largestInList)+1)]\n",
    "\n",
    "    for i in allnumber:\n",
    "        if i not in tempLst: \n",
    "            resStr+=str(i)\n",
    "    return resStr\n",
    "\n",
    "missing(12348)"
   ]
  },
  {
   "cell_type": "code",
   "execution_count": null,
   "id": "c93dd936",
   "metadata": {},
   "outputs": [
    {
     "name": "stdout",
     "output_type": "stream",
     "text": [
      "10 => 4\n",
      "30 => 2\n",
      "20 => 2\n"
     ]
    }
   ],
   "source": [
    "# Finding the frequency of elements in an array.\n",
    "#     arr = [10, 30, 10, 20, 10, 20, 30, 10]  O/p: 10=> 4 30 =>2  20=> 2\n",
    "\n",
    "\n",
    "arr = [10, 30, 10, 20, 10, 20, 30, 10]\n",
    "\n",
    "freq = {}\n",
    "\n",
    "for num in arr:\n",
    "    if num in freq:\n",
    "        freq[num] += 1\n",
    "    else:\n",
    "        freq[num] = 1\n",
    "\n",
    "# Print output\n",
    "for key, value in freq.items():\n",
    "    print(f\"{key} => {value}\")\n"
   ]
  },
  {
   "cell_type": "code",
   "execution_count": null,
   "id": "d7691733",
   "metadata": {},
   "outputs": [
    {
     "name": "stdout",
     "output_type": "stream",
     "text": [
      "arr2 is NOT a subset of arr1\n"
     ]
    }
   ],
   "source": [
    "# 19) check if array is subset of another array or not .if the arr2 contains elements which are there in arr1 then it is a subset of an array.\n",
    "# arr1=[1,3,4,5,2]\n",
    "# arr2=[2,4,3,1,7.5.15]\n",
    "\n",
    "def is_subset(arr1, arr2):\n",
    "    for element in arr2:\n",
    "        if element not in arr1:\n",
    "            return False\n",
    "    return True\n",
    "\n",
    "arr1 = [1, 3, 4, 5, 2]\n",
    "arr2 = [2, 4, 3, 1, 7, 5, 15]\n",
    "\n",
    "if is_subset(arr1, arr2):\n",
    "    print(\"arr2 is a subset of arr1\")\n",
    "else:\n",
    "    print(\"arr2 is NOT a subset of arr1\")\n"
   ]
  },
  {
   "cell_type": "code",
   "execution_count": 5,
   "id": "fff5ea73",
   "metadata": {},
   "outputs": [
    {
     "name": "stdout",
     "output_type": "stream",
     "text": [
      "[True, True, True, True, False]\n"
     ]
    }
   ],
   "source": [
    "# Wap to check if the digits of each number in an list are in increasing order, returning true or false for each Increasing order or not\n",
    "#  Input: [568,89,112,88,571]     Output: [true,true ,false,false ,false]\n",
    "\n",
    "\n",
    "def is_increasing(num):\n",
    "    num_str = str(num)  \n",
    "    for i in range(len(num_str) - 1):\n",
    "        if num_str[i] > num_str[i + 1]:  \n",
    "            return False\n",
    "    return True\n",
    "\n",
    "def check_numbers(lst):\n",
    "    return [is_increasing(num) for num in lst]  \n",
    "\n",
    "\n",
    "numbers = [568, 89, 112, 88, 571]\n",
    "result = check_numbers(numbers)\n",
    "print(result)  # Output: [True, True, False, False, False]\n"
   ]
  },
  {
   "cell_type": "code",
   "execution_count": null,
   "id": "f82279e9",
   "metadata": {},
   "outputs": [
    {
     "name": "stdout",
     "output_type": "stream",
     "text": [
      "2 pairs\n",
      "5 pairs\n"
     ]
    }
   ],
   "source": [
    "# 20 Wap to print the number of pairs formed by the array of elements\n",
    "#  Input: 10 20 10 30 20 20\t  Output: 2 pairs\n",
    "#  Input: 30 50 30 50 20 50 50 20 50 50    Output : 5 pairs\n",
    "\n",
    "\n",
    "def count_pairs(arr):\n",
    "    freq = {}  \n",
    "    pairs = 0\n",
    "    \n",
    "    for num in arr:\n",
    "        if num in freq:\n",
    "            freq[num] += 1\n",
    "        else:\n",
    "            freq[num] = 1\n",
    "    \n",
    "    for count in freq.values():\n",
    "        pairs += count // 2\n",
    "    \n",
    "    return pairs\n",
    "\n",
    "# Example inputs\n",
    "arr1 = [10, 20, 10, 30, 20, 20]\n",
    "arr2 = [30, 50, 30, 50, 20, 50, 50, 20, 50, 50]\n",
    "\n",
    "print(count_pairs(arr1), \"pairs\")  # Output: 2 pairs\n",
    "print(count_pairs(arr2), \"pairs\")  # Output: 5 pairs\n"
   ]
  }
 ],
 "metadata": {
  "kernelspec": {
   "display_name": "base",
   "language": "python",
   "name": "python3"
  },
  "language_info": {
   "codemirror_mode": {
    "name": "ipython",
    "version": 3
   },
   "file_extension": ".py",
   "mimetype": "text/x-python",
   "name": "python",
   "nbconvert_exporter": "python",
   "pygments_lexer": "ipython3",
   "version": "3.11.7"
  }
 },
 "nbformat": 4,
 "nbformat_minor": 5
}
